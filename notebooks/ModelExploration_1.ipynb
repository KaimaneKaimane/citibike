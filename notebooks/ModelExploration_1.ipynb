{
 "cells": [
  {
   "cell_type": "code",
   "execution_count": 1,
   "metadata": {
    "ExecuteTime": {
     "end_time": "2020-05-08T20:43:18.269697Z",
     "start_time": "2020-05-08T20:41:41.049564Z"
    }
   },
   "outputs": [
    {
     "name": "stdout",
     "output_type": "stream",
     "text": [
      "Loading month 01\n",
      "Loading month 02\n",
      "Loading month 03\n",
      "Loading month 04\n",
      "Loading month 05\n",
      "Loading month 06\n",
      "Loading month 07\n",
      "Loading month 08\n",
      "Loading month 09\n",
      "Loading month 10\n",
      "Loading month 11\n",
      "Loading month 12\n"
     ]
    }
   ],
   "source": [
    "import pandas as pd\n",
    "\n",
    "citibike_data = None\n",
    "\n",
    "for month in range(1,13):\n",
    "    if month < 10:\n",
    "        month_str = f'0{month}'\n",
    "    else:\n",
    "        month_str = f'{month}'\n",
    "    print('Loading month', month_str)\n",
    "    current_month = pd.read_csv(f'../dataset/2018{month_str}-citibike-tripdata.csv')\n",
    "    \n",
    "    if citibike_data is None:\n",
    "        citibike_data = current_month\n",
    "    else:\n",
    "        citibike_data = citibike_data.append(current_month)\n",
    "citibike_data = citibike_data.dropna()"
   ]
  },
  {
   "cell_type": "code",
   "execution_count": 2,
   "metadata": {
    "ExecuteTime": {
     "end_time": "2020-05-08T20:43:45.500803Z",
     "start_time": "2020-05-08T20:43:18.271752Z"
    }
   },
   "outputs": [
    {
     "data": {
      "text/html": [
       "<div>\n",
       "<style scoped>\n",
       "    .dataframe tbody tr th:only-of-type {\n",
       "        vertical-align: middle;\n",
       "    }\n",
       "\n",
       "    .dataframe tbody tr th {\n",
       "        vertical-align: top;\n",
       "    }\n",
       "\n",
       "    .dataframe thead th {\n",
       "        text-align: right;\n",
       "    }\n",
       "</style>\n",
       "<table border=\"1\" class=\"dataframe\">\n",
       "  <thead>\n",
       "    <tr style=\"text-align: right;\">\n",
       "      <th></th>\n",
       "      <th>tripduration</th>\n",
       "      <th>starttime</th>\n",
       "      <th>stoptime</th>\n",
       "      <th>start station id</th>\n",
       "      <th>start station latitude</th>\n",
       "      <th>start station longitude</th>\n",
       "      <th>end station id</th>\n",
       "      <th>end station latitude</th>\n",
       "      <th>end station longitude</th>\n",
       "      <th>usertype</th>\n",
       "      <th>birth year</th>\n",
       "      <th>gender</th>\n",
       "      <th>start_weekday</th>\n",
       "    </tr>\n",
       "  </thead>\n",
       "  <tbody>\n",
       "    <tr>\n",
       "      <th>0</th>\n",
       "      <td>970</td>\n",
       "      <td>2018-01-01 13:50:57.434</td>\n",
       "      <td>2018-01-01 14:07:08.186</td>\n",
       "      <td>72.0</td>\n",
       "      <td>40.767272</td>\n",
       "      <td>-73.993929</td>\n",
       "      <td>505.0</td>\n",
       "      <td>40.749013</td>\n",
       "      <td>-73.988484</td>\n",
       "      <td>Subscriber</td>\n",
       "      <td>1992</td>\n",
       "      <td>1</td>\n",
       "      <td>Monday</td>\n",
       "    </tr>\n",
       "    <tr>\n",
       "      <th>1</th>\n",
       "      <td>723</td>\n",
       "      <td>2018-01-01 15:33:30.182</td>\n",
       "      <td>2018-01-01 15:45:33.341</td>\n",
       "      <td>72.0</td>\n",
       "      <td>40.767272</td>\n",
       "      <td>-73.993929</td>\n",
       "      <td>3255.0</td>\n",
       "      <td>40.750585</td>\n",
       "      <td>-73.994685</td>\n",
       "      <td>Subscriber</td>\n",
       "      <td>1969</td>\n",
       "      <td>1</td>\n",
       "      <td>Monday</td>\n",
       "    </tr>\n",
       "    <tr>\n",
       "      <th>2</th>\n",
       "      <td>496</td>\n",
       "      <td>2018-01-01 15:39:18.337</td>\n",
       "      <td>2018-01-01 15:47:35.172</td>\n",
       "      <td>72.0</td>\n",
       "      <td>40.767272</td>\n",
       "      <td>-73.993929</td>\n",
       "      <td>525.0</td>\n",
       "      <td>40.755942</td>\n",
       "      <td>-74.002116</td>\n",
       "      <td>Subscriber</td>\n",
       "      <td>1956</td>\n",
       "      <td>1</td>\n",
       "      <td>Monday</td>\n",
       "    </tr>\n",
       "    <tr>\n",
       "      <th>3</th>\n",
       "      <td>306</td>\n",
       "      <td>2018-01-01 15:40:13.372</td>\n",
       "      <td>2018-01-01 15:45:20.191</td>\n",
       "      <td>72.0</td>\n",
       "      <td>40.767272</td>\n",
       "      <td>-73.993929</td>\n",
       "      <td>447.0</td>\n",
       "      <td>40.763707</td>\n",
       "      <td>-73.985162</td>\n",
       "      <td>Subscriber</td>\n",
       "      <td>1974</td>\n",
       "      <td>1</td>\n",
       "      <td>Monday</td>\n",
       "    </tr>\n",
       "    <tr>\n",
       "      <th>4</th>\n",
       "      <td>306</td>\n",
       "      <td>2018-01-01 18:14:51.568</td>\n",
       "      <td>2018-01-01 18:19:57.642</td>\n",
       "      <td>72.0</td>\n",
       "      <td>40.767272</td>\n",
       "      <td>-73.993929</td>\n",
       "      <td>3356.0</td>\n",
       "      <td>40.774667</td>\n",
       "      <td>-73.984706</td>\n",
       "      <td>Subscriber</td>\n",
       "      <td>1992</td>\n",
       "      <td>1</td>\n",
       "      <td>Monday</td>\n",
       "    </tr>\n",
       "    <tr>\n",
       "      <th>...</th>\n",
       "      <td>...</td>\n",
       "      <td>...</td>\n",
       "      <td>...</td>\n",
       "      <td>...</td>\n",
       "      <td>...</td>\n",
       "      <td>...</td>\n",
       "      <td>...</td>\n",
       "      <td>...</td>\n",
       "      <td>...</td>\n",
       "      <td>...</td>\n",
       "      <td>...</td>\n",
       "      <td>...</td>\n",
       "      <td>...</td>\n",
       "    </tr>\n",
       "    <tr>\n",
       "      <th>1016500</th>\n",
       "      <td>734</td>\n",
       "      <td>2018-12-31 23:55:06.991</td>\n",
       "      <td>2019-01-01 00:07:21.230</td>\n",
       "      <td>336.0</td>\n",
       "      <td>40.730477</td>\n",
       "      <td>-73.999061</td>\n",
       "      <td>379.0</td>\n",
       "      <td>40.749156</td>\n",
       "      <td>-73.991600</td>\n",
       "      <td>Subscriber</td>\n",
       "      <td>1986</td>\n",
       "      <td>1</td>\n",
       "      <td>Monday</td>\n",
       "    </tr>\n",
       "    <tr>\n",
       "      <th>1016501</th>\n",
       "      <td>2551</td>\n",
       "      <td>2018-12-31 23:55:44.307</td>\n",
       "      <td>2019-01-01 00:38:15.782</td>\n",
       "      <td>3320.0</td>\n",
       "      <td>40.794067</td>\n",
       "      <td>-73.962868</td>\n",
       "      <td>2006.0</td>\n",
       "      <td>40.765909</td>\n",
       "      <td>-73.976342</td>\n",
       "      <td>Customer</td>\n",
       "      <td>1969</td>\n",
       "      <td>0</td>\n",
       "      <td>Monday</td>\n",
       "    </tr>\n",
       "    <tr>\n",
       "      <th>1016502</th>\n",
       "      <td>2376</td>\n",
       "      <td>2018-12-31 23:56:52.850</td>\n",
       "      <td>2019-01-01 00:36:29.286</td>\n",
       "      <td>427.0</td>\n",
       "      <td>40.701907</td>\n",
       "      <td>-74.013942</td>\n",
       "      <td>259.0</td>\n",
       "      <td>40.701221</td>\n",
       "      <td>-74.012342</td>\n",
       "      <td>Subscriber</td>\n",
       "      <td>1979</td>\n",
       "      <td>1</td>\n",
       "      <td>Monday</td>\n",
       "    </tr>\n",
       "    <tr>\n",
       "      <th>1016503</th>\n",
       "      <td>2758</td>\n",
       "      <td>2018-12-31 23:58:29.212</td>\n",
       "      <td>2019-01-01 00:44:27.517</td>\n",
       "      <td>3320.0</td>\n",
       "      <td>40.794067</td>\n",
       "      <td>-73.962868</td>\n",
       "      <td>281.0</td>\n",
       "      <td>40.764397</td>\n",
       "      <td>-73.973715</td>\n",
       "      <td>Customer</td>\n",
       "      <td>1969</td>\n",
       "      <td>0</td>\n",
       "      <td>Monday</td>\n",
       "    </tr>\n",
       "    <tr>\n",
       "      <th>1016504</th>\n",
       "      <td>2459</td>\n",
       "      <td>2018-12-31 23:59:51.085</td>\n",
       "      <td>2019-01-01 00:40:50.880</td>\n",
       "      <td>128.0</td>\n",
       "      <td>40.727103</td>\n",
       "      <td>-74.002971</td>\n",
       "      <td>402.0</td>\n",
       "      <td>40.740343</td>\n",
       "      <td>-73.989551</td>\n",
       "      <td>Subscriber</td>\n",
       "      <td>1996</td>\n",
       "      <td>2</td>\n",
       "      <td>Monday</td>\n",
       "    </tr>\n",
       "  </tbody>\n",
       "</table>\n",
       "<p>17545470 rows × 13 columns</p>\n",
       "</div>"
      ],
      "text/plain": [
       "         tripduration               starttime                stoptime  \\\n",
       "0                 970 2018-01-01 13:50:57.434 2018-01-01 14:07:08.186   \n",
       "1                 723 2018-01-01 15:33:30.182 2018-01-01 15:45:33.341   \n",
       "2                 496 2018-01-01 15:39:18.337 2018-01-01 15:47:35.172   \n",
       "3                 306 2018-01-01 15:40:13.372 2018-01-01 15:45:20.191   \n",
       "4                 306 2018-01-01 18:14:51.568 2018-01-01 18:19:57.642   \n",
       "...               ...                     ...                     ...   \n",
       "1016500           734 2018-12-31 23:55:06.991 2019-01-01 00:07:21.230   \n",
       "1016501          2551 2018-12-31 23:55:44.307 2019-01-01 00:38:15.782   \n",
       "1016502          2376 2018-12-31 23:56:52.850 2019-01-01 00:36:29.286   \n",
       "1016503          2758 2018-12-31 23:58:29.212 2019-01-01 00:44:27.517   \n",
       "1016504          2459 2018-12-31 23:59:51.085 2019-01-01 00:40:50.880   \n",
       "\n",
       "         start station id  start station latitude  start station longitude  \\\n",
       "0                    72.0               40.767272               -73.993929   \n",
       "1                    72.0               40.767272               -73.993929   \n",
       "2                    72.0               40.767272               -73.993929   \n",
       "3                    72.0               40.767272               -73.993929   \n",
       "4                    72.0               40.767272               -73.993929   \n",
       "...                   ...                     ...                      ...   \n",
       "1016500             336.0               40.730477               -73.999061   \n",
       "1016501            3320.0               40.794067               -73.962868   \n",
       "1016502             427.0               40.701907               -74.013942   \n",
       "1016503            3320.0               40.794067               -73.962868   \n",
       "1016504             128.0               40.727103               -74.002971   \n",
       "\n",
       "         end station id  end station latitude  end station longitude  \\\n",
       "0                 505.0             40.749013             -73.988484   \n",
       "1                3255.0             40.750585             -73.994685   \n",
       "2                 525.0             40.755942             -74.002116   \n",
       "3                 447.0             40.763707             -73.985162   \n",
       "4                3356.0             40.774667             -73.984706   \n",
       "...                 ...                   ...                    ...   \n",
       "1016500           379.0             40.749156             -73.991600   \n",
       "1016501          2006.0             40.765909             -73.976342   \n",
       "1016502           259.0             40.701221             -74.012342   \n",
       "1016503           281.0             40.764397             -73.973715   \n",
       "1016504           402.0             40.740343             -73.989551   \n",
       "\n",
       "           usertype  birth year  gender start_weekday  \n",
       "0        Subscriber        1992       1        Monday  \n",
       "1        Subscriber        1969       1        Monday  \n",
       "2        Subscriber        1956       1        Monday  \n",
       "3        Subscriber        1974       1        Monday  \n",
       "4        Subscriber        1992       1        Monday  \n",
       "...             ...         ...     ...           ...  \n",
       "1016500  Subscriber        1986       1        Monday  \n",
       "1016501    Customer        1969       0        Monday  \n",
       "1016502  Subscriber        1979       1        Monday  \n",
       "1016503    Customer        1969       0        Monday  \n",
       "1016504  Subscriber        1996       2        Monday  \n",
       "\n",
       "[17545470 rows x 13 columns]"
      ]
     },
     "execution_count": 2,
     "metadata": {},
     "output_type": "execute_result"
    }
   ],
   "source": [
    "citibike_data = citibike_data.dropna()\n",
    "\n",
    "import numpy as np\n",
    "\n",
    "citibike_data['starttime'] = pd.to_datetime(citibike_data['starttime'])\n",
    "citibike_data['stoptime'] = pd.to_datetime(citibike_data['stoptime'])\n",
    "\n",
    "citibike_data['tripduration'] = (citibike_data['stoptime'] - citibike_data['starttime']).dt.total_seconds().apply(np.floor).astype(int)\n",
    "\n",
    "filter_columns = [\n",
    "    'tripduration', \n",
    "    'starttime', \n",
    "    'stoptime', \n",
    "    'start station id',\n",
    "    'start station latitude',\n",
    "    'start station longitude',\n",
    "    'end station id',\n",
    "    'end station latitude',\n",
    "    'end station longitude',\n",
    "    'usertype',\n",
    "    'birth year',\n",
    "    'gender'\n",
    "]\n",
    "citibike_data = citibike_data[filter_columns]\n",
    "citibike_data = citibike_data[citibike_data['tripduration'] <= 20*24*60*60]\n",
    "\n",
    "citibike_data = citibike_data[citibike_data['end station latitude'] <= 41.13]\n",
    "citibike_data = citibike_data[citibike_data['start station latitude'] <= 41.13]\n",
    "citibike_data = citibike_data[citibike_data['end station latitude'] >= 40.12]\n",
    "citibike_data = citibike_data[citibike_data['start station latitude'] >= 40.12]\n",
    "citibike_data = citibike_data[citibike_data['end station longitude'] >= -74.40]\n",
    "citibike_data = citibike_data[citibike_data['start station longitude'] >= -74.40]\n",
    "citibike_data = citibike_data[citibike_data['end station longitude'] <= -73.19]\n",
    "citibike_data = citibike_data[citibike_data['start station longitude'] <= -73.19]\n",
    "\n",
    "citibike_data['start_weekday'] = citibike_data['starttime'].dt.day_name()\n",
    "\n",
    "citibike_data"
   ]
  },
  {
   "cell_type": "code",
   "execution_count": 3,
   "metadata": {
    "ExecuteTime": {
     "end_time": "2020-05-08T20:43:45.506363Z",
     "start_time": "2020-05-08T20:43:45.503417Z"
    }
   },
   "outputs": [],
   "source": [
    "features_df = citibike_data #.head(10000)"
   ]
  },
  {
   "cell_type": "code",
   "execution_count": 4,
   "metadata": {
    "ExecuteTime": {
     "end_time": "2020-05-08T20:43:47.213410Z",
     "start_time": "2020-05-08T20:43:45.508308Z"
    }
   },
   "outputs": [
    {
     "data": {
      "text/plain": [
       "LabelEncoder()"
      ]
     },
     "execution_count": 4,
     "metadata": {},
     "output_type": "execute_result"
    }
   ],
   "source": [
    "from sklearn import preprocessing\n",
    "\n",
    "unique_labels = features_df['usertype'].unique()\n",
    "unique_weekdays = features_df['start_weekday'].unique()\n",
    "le_ut = preprocessing.LabelEncoder()\n",
    "le_ut.fit(unique_labels)\n",
    "le_wd = preprocessing.LabelEncoder()\n",
    "le_wd.fit(unique_weekdays)"
   ]
  },
  {
   "cell_type": "code",
   "execution_count": 5,
   "metadata": {
    "ExecuteTime": {
     "end_time": "2020-05-08T20:43:52.771362Z",
     "start_time": "2020-05-08T20:43:47.215451Z"
    }
   },
   "outputs": [],
   "source": [
    "features_df['usertype'] = le_ut.transform(features_df['usertype']) \n",
    "features_df['start_weekday'] = le_wd.transform(features_df['start_weekday']) "
   ]
  },
  {
   "cell_type": "code",
   "execution_count": 7,
   "metadata": {
    "ExecuteTime": {
     "end_time": "2020-05-08T20:44:03.848537Z",
     "start_time": "2020-05-08T20:44:03.328449Z"
    }
   },
   "outputs": [
    {
     "data": {
      "text/html": [
       "<div>\n",
       "<style scoped>\n",
       "    .dataframe tbody tr th:only-of-type {\n",
       "        vertical-align: middle;\n",
       "    }\n",
       "\n",
       "    .dataframe tbody tr th {\n",
       "        vertical-align: top;\n",
       "    }\n",
       "\n",
       "    .dataframe thead th {\n",
       "        text-align: right;\n",
       "    }\n",
       "</style>\n",
       "<table border=\"1\" class=\"dataframe\">\n",
       "  <thead>\n",
       "    <tr style=\"text-align: right;\">\n",
       "      <th></th>\n",
       "      <th>tripduration</th>\n",
       "      <th>start station latitude</th>\n",
       "      <th>start station longitude</th>\n",
       "      <th>end station latitude</th>\n",
       "      <th>end station longitude</th>\n",
       "      <th>birth year</th>\n",
       "      <th>start_weekday</th>\n",
       "      <th>gender</th>\n",
       "      <th>usertype</th>\n",
       "    </tr>\n",
       "  </thead>\n",
       "  <tbody>\n",
       "    <tr>\n",
       "      <th>0</th>\n",
       "      <td>970</td>\n",
       "      <td>40.767272</td>\n",
       "      <td>-73.993929</td>\n",
       "      <td>40.749013</td>\n",
       "      <td>-73.988484</td>\n",
       "      <td>1992</td>\n",
       "      <td>1</td>\n",
       "      <td>1</td>\n",
       "      <td>1</td>\n",
       "    </tr>\n",
       "    <tr>\n",
       "      <th>1</th>\n",
       "      <td>723</td>\n",
       "      <td>40.767272</td>\n",
       "      <td>-73.993929</td>\n",
       "      <td>40.750585</td>\n",
       "      <td>-73.994685</td>\n",
       "      <td>1969</td>\n",
       "      <td>1</td>\n",
       "      <td>1</td>\n",
       "      <td>1</td>\n",
       "    </tr>\n",
       "    <tr>\n",
       "      <th>2</th>\n",
       "      <td>496</td>\n",
       "      <td>40.767272</td>\n",
       "      <td>-73.993929</td>\n",
       "      <td>40.755942</td>\n",
       "      <td>-74.002116</td>\n",
       "      <td>1956</td>\n",
       "      <td>1</td>\n",
       "      <td>1</td>\n",
       "      <td>1</td>\n",
       "    </tr>\n",
       "    <tr>\n",
       "      <th>3</th>\n",
       "      <td>306</td>\n",
       "      <td>40.767272</td>\n",
       "      <td>-73.993929</td>\n",
       "      <td>40.763707</td>\n",
       "      <td>-73.985162</td>\n",
       "      <td>1974</td>\n",
       "      <td>1</td>\n",
       "      <td>1</td>\n",
       "      <td>1</td>\n",
       "    </tr>\n",
       "    <tr>\n",
       "      <th>4</th>\n",
       "      <td>306</td>\n",
       "      <td>40.767272</td>\n",
       "      <td>-73.993929</td>\n",
       "      <td>40.774667</td>\n",
       "      <td>-73.984706</td>\n",
       "      <td>1992</td>\n",
       "      <td>1</td>\n",
       "      <td>1</td>\n",
       "      <td>1</td>\n",
       "    </tr>\n",
       "    <tr>\n",
       "      <th>...</th>\n",
       "      <td>...</td>\n",
       "      <td>...</td>\n",
       "      <td>...</td>\n",
       "      <td>...</td>\n",
       "      <td>...</td>\n",
       "      <td>...</td>\n",
       "      <td>...</td>\n",
       "      <td>...</td>\n",
       "      <td>...</td>\n",
       "    </tr>\n",
       "    <tr>\n",
       "      <th>1016500</th>\n",
       "      <td>734</td>\n",
       "      <td>40.730477</td>\n",
       "      <td>-73.999061</td>\n",
       "      <td>40.749156</td>\n",
       "      <td>-73.991600</td>\n",
       "      <td>1986</td>\n",
       "      <td>1</td>\n",
       "      <td>1</td>\n",
       "      <td>1</td>\n",
       "    </tr>\n",
       "    <tr>\n",
       "      <th>1016501</th>\n",
       "      <td>2551</td>\n",
       "      <td>40.794067</td>\n",
       "      <td>-73.962868</td>\n",
       "      <td>40.765909</td>\n",
       "      <td>-73.976342</td>\n",
       "      <td>1969</td>\n",
       "      <td>1</td>\n",
       "      <td>0</td>\n",
       "      <td>0</td>\n",
       "    </tr>\n",
       "    <tr>\n",
       "      <th>1016502</th>\n",
       "      <td>2376</td>\n",
       "      <td>40.701907</td>\n",
       "      <td>-74.013942</td>\n",
       "      <td>40.701221</td>\n",
       "      <td>-74.012342</td>\n",
       "      <td>1979</td>\n",
       "      <td>1</td>\n",
       "      <td>1</td>\n",
       "      <td>1</td>\n",
       "    </tr>\n",
       "    <tr>\n",
       "      <th>1016503</th>\n",
       "      <td>2758</td>\n",
       "      <td>40.794067</td>\n",
       "      <td>-73.962868</td>\n",
       "      <td>40.764397</td>\n",
       "      <td>-73.973715</td>\n",
       "      <td>1969</td>\n",
       "      <td>1</td>\n",
       "      <td>0</td>\n",
       "      <td>0</td>\n",
       "    </tr>\n",
       "    <tr>\n",
       "      <th>1016504</th>\n",
       "      <td>2459</td>\n",
       "      <td>40.727103</td>\n",
       "      <td>-74.002971</td>\n",
       "      <td>40.740343</td>\n",
       "      <td>-73.989551</td>\n",
       "      <td>1996</td>\n",
       "      <td>1</td>\n",
       "      <td>2</td>\n",
       "      <td>1</td>\n",
       "    </tr>\n",
       "  </tbody>\n",
       "</table>\n",
       "<p>17545470 rows × 9 columns</p>\n",
       "</div>"
      ],
      "text/plain": [
       "         tripduration  start station latitude  start station longitude  \\\n",
       "0                 970               40.767272               -73.993929   \n",
       "1                 723               40.767272               -73.993929   \n",
       "2                 496               40.767272               -73.993929   \n",
       "3                 306               40.767272               -73.993929   \n",
       "4                 306               40.767272               -73.993929   \n",
       "...               ...                     ...                      ...   \n",
       "1016500           734               40.730477               -73.999061   \n",
       "1016501          2551               40.794067               -73.962868   \n",
       "1016502          2376               40.701907               -74.013942   \n",
       "1016503          2758               40.794067               -73.962868   \n",
       "1016504          2459               40.727103               -74.002971   \n",
       "\n",
       "         end station latitude  end station longitude  birth year  \\\n",
       "0                   40.749013             -73.988484        1992   \n",
       "1                   40.750585             -73.994685        1969   \n",
       "2                   40.755942             -74.002116        1956   \n",
       "3                   40.763707             -73.985162        1974   \n",
       "4                   40.774667             -73.984706        1992   \n",
       "...                       ...                    ...         ...   \n",
       "1016500             40.749156             -73.991600        1986   \n",
       "1016501             40.765909             -73.976342        1969   \n",
       "1016502             40.701221             -74.012342        1979   \n",
       "1016503             40.764397             -73.973715        1969   \n",
       "1016504             40.740343             -73.989551        1996   \n",
       "\n",
       "         start_weekday  gender  usertype  \n",
       "0                    1       1         1  \n",
       "1                    1       1         1  \n",
       "2                    1       1         1  \n",
       "3                    1       1         1  \n",
       "4                    1       1         1  \n",
       "...                ...     ...       ...  \n",
       "1016500              1       1         1  \n",
       "1016501              1       0         0  \n",
       "1016502              1       1         1  \n",
       "1016503              1       0         0  \n",
       "1016504              1       2         1  \n",
       "\n",
       "[17545470 rows x 9 columns]"
      ]
     },
     "execution_count": 7,
     "metadata": {},
     "output_type": "execute_result"
    }
   ],
   "source": [
    "feature_columns = [\n",
    "    'tripduration', \n",
    "    'start station latitude',\n",
    "    'start station longitude',\n",
    "    'end station latitude',\n",
    "    'end station longitude',\n",
    "    'birth year',\n",
    "    'start_weekday',\n",
    "    'gender'\n",
    "]\n",
    "label_column = 'usertype'\n",
    "\n",
    "features_df = features_df[feature_columns + [label_column]]\n",
    "features_df"
   ]
  },
  {
   "cell_type": "code",
   "execution_count": 8,
   "metadata": {
    "ExecuteTime": {
     "end_time": "2020-05-08T20:44:16.433596Z",
     "start_time": "2020-05-08T20:44:06.734412Z"
    }
   },
   "outputs": [],
   "source": [
    "from sklearn.model_selection import train_test_split\n",
    "\n",
    "train_set, test_set = train_test_split(\n",
    "    features_df, \n",
    "    test_size=0.33, \n",
    "    random_state=42, \n",
    "    stratify=features_df[label_column]\n",
    ")"
   ]
  },
  {
   "cell_type": "code",
   "execution_count": 9,
   "metadata": {
    "ExecuteTime": {
     "end_time": "2020-05-08T20:48:22.930620Z",
     "start_time": "2020-05-08T20:44:16.436298Z"
    }
   },
   "outputs": [],
   "source": [
    "from sklearn import tree\n",
    "clf = tree.DecisionTreeClassifier()\n",
    "clf = clf.fit(\n",
    "    train_set[feature_columns], \n",
    "    train_set[label_column]\n",
    ")"
   ]
  },
  {
   "cell_type": "code",
   "execution_count": 10,
   "metadata": {
    "ExecuteTime": {
     "end_time": "2020-05-08T20:48:42.395734Z",
     "start_time": "2020-05-08T20:48:22.932849Z"
    }
   },
   "outputs": [
    {
     "name": "stdout",
     "output_type": "stream",
     "text": [
      "0.957531393930119\n",
      "[1 0]\n",
      "['Subscriber' 'Customer']\n",
      "              precision    recall  f1-score   support\n",
      "\n",
      "           0       0.65      0.68      0.67    637643\n",
      "           1       0.96      0.95      0.96   5152363\n",
      "\n",
      "    accuracy                           0.92   5790006\n",
      "   macro avg       0.81      0.82      0.81   5790006\n",
      "weighted avg       0.93      0.92      0.93   5790006\n",
      "\n"
     ]
    }
   ],
   "source": [
    "from sklearn.metrics import f1_score\n",
    "from sklearn.metrics import classification_report\n",
    "\n",
    "predicted_labels = clf.predict(test_set[feature_columns])\n",
    "true_labels = test_set[label_column].tolist()\n",
    "\n",
    "print(f1_score(true_labels, predicted_labels))\n",
    "\n",
    "print(le_ut.transform(unique_labels))\n",
    "print(unique_labels)\n",
    "\n",
    "# true_labels = le_ut.inverse_transform(true_labels)\n",
    "# predicted_labels = le_ut.inverse_transform(predicted_labels)\n",
    "\n",
    "print(classification_report(true_labels, predicted_labels))"
   ]
  },
  {
   "cell_type": "code",
   "execution_count": 11,
   "metadata": {
    "ExecuteTime": {
     "end_time": "2020-05-08T20:48:42.424869Z",
     "start_time": "2020-05-08T20:48:42.398476Z"
    }
   },
   "outputs": [
    {
     "data": {
      "text/plain": [
       "array([0.15933697, 0.07344344, 0.06970923, 0.06944573, 0.0681779 ,\n",
       "       0.08300612, 0.02773077, 0.44914985])"
      ]
     },
     "execution_count": 11,
     "metadata": {},
     "output_type": "execute_result"
    }
   ],
   "source": [
    "clf.feature_importances_"
   ]
  },
  {
   "cell_type": "code",
   "execution_count": 12,
   "metadata": {
    "ExecuteTime": {
     "end_time": "2020-05-08T20:48:42.438575Z",
     "start_time": "2020-05-08T20:48:42.427622Z"
    }
   },
   "outputs": [
    {
     "data": {
      "text/plain": [
       "array(['Subscriber', 'Customer'], dtype=object)"
      ]
     },
     "execution_count": 12,
     "metadata": {},
     "output_type": "execute_result"
    }
   ],
   "source": [
    "unique_labels"
   ]
  },
  {
   "cell_type": "code",
   "execution_count": 13,
   "metadata": {
    "ExecuteTime": {
     "end_time": "2020-05-08T20:48:45.285064Z",
     "start_time": "2020-05-08T20:48:42.441488Z"
    },
    "scrolled": true
   },
   "outputs": [
    {
     "name": "stdout",
     "output_type": "stream",
     "text": [
      "Requirement already satisfied: imblearn in /usr/local/lib/python3.7/site-packages (0.0)\n",
      "Requirement already satisfied: imbalanced-learn in /usr/local/lib/python3.7/site-packages (from imblearn) (0.6.2)\n",
      "Requirement already satisfied: scikit-learn>=0.22 in /usr/local/lib/python3.7/site-packages (from imbalanced-learn->imblearn) (0.22.2.post1)\n",
      "Requirement already satisfied: scipy>=0.17 in /usr/local/lib/python3.7/site-packages (from imbalanced-learn->imblearn) (1.4.1)\n",
      "Requirement already satisfied: joblib>=0.11 in /usr/local/lib/python3.7/site-packages (from imbalanced-learn->imblearn) (0.14.1)\n",
      "Requirement already satisfied: numpy>=1.11 in /usr/local/lib/python3.7/site-packages (from imbalanced-learn->imblearn) (1.18.4)\n",
      "Note: you may need to restart the kernel to use updated packages.\n"
     ]
    }
   ],
   "source": [
    "pip install imblearn"
   ]
  },
  {
   "cell_type": "code",
   "execution_count": 14,
   "metadata": {
    "ExecuteTime": {
     "end_time": "2020-05-08T20:50:13.751153Z",
     "start_time": "2020-05-08T20:48:45.292879Z"
    }
   },
   "outputs": [
    {
     "name": "stderr",
     "output_type": "stream",
     "text": [
      "Using TensorFlow backend.\n"
     ]
    },
    {
     "name": "stdout",
     "output_type": "stream",
     "text": [
      "Resampled dataset shape Counter({1: 10460857, 0: 10460857})\n"
     ]
    },
    {
     "data": {
      "text/plain": [
       "0           1\n",
       "1           0\n",
       "2           1\n",
       "3           0\n",
       "4           1\n",
       "           ..\n",
       "20921709    0\n",
       "20921710    0\n",
       "20921711    0\n",
       "20921712    0\n",
       "20921713    0\n",
       "Name: usertype, Length: 20921714, dtype: int64"
      ]
     },
     "execution_count": 14,
     "metadata": {},
     "output_type": "execute_result"
    }
   ],
   "source": [
    "from collections import Counter\n",
    "from sklearn.datasets import make_classification\n",
    "from imblearn.over_sampling import ADASYN, SMOTE\n",
    "\n",
    "#print('Original dataset shape %s' % Counter(y))\n",
    "\n",
    "smo = SMOTE(random_state=42)\n",
    "# ada = ADASYN(random_state=42)\n",
    "x_res, y_res = smo.fit_resample(train_set[feature_columns], train_set[label_column])\n",
    "# x_res, y_res = ada.fit_resample(features_df[feature_columns], features_df[label_column])\n",
    "print('Resampled dataset shape %s' % Counter(y_res))\n",
    "\n",
    "y_res"
   ]
  },
  {
   "cell_type": "code",
   "execution_count": 15,
   "metadata": {
    "ExecuteTime": {
     "end_time": "2020-05-08T21:00:10.214935Z",
     "start_time": "2020-05-08T20:50:13.753610Z"
    }
   },
   "outputs": [],
   "source": [
    "clf2 = tree.DecisionTreeClassifier()\n",
    "clf2 = clf2.fit(\n",
    "    x_res, \n",
    "    y_res\n",
    ")"
   ]
  },
  {
   "cell_type": "code",
   "execution_count": 16,
   "metadata": {
    "ExecuteTime": {
     "end_time": "2020-05-08T21:00:38.682236Z",
     "start_time": "2020-05-08T21:00:10.217426Z"
    }
   },
   "outputs": [
    {
     "name": "stdout",
     "output_type": "stream",
     "text": [
      "0.9461667264136733\n",
      "[1 0]\n",
      "['Subscriber' 'Customer']\n",
      "              precision    recall  f1-score   support\n",
      "\n",
      "           0       0.56      0.73      0.63    637643\n",
      "           1       0.97      0.93      0.95   5152363\n",
      "\n",
      "    accuracy                           0.91   5790006\n",
      "   macro avg       0.76      0.83      0.79   5790006\n",
      "weighted avg       0.92      0.91      0.91   5790006\n",
      "\n"
     ]
    }
   ],
   "source": [
    "predicted_labels = clf2.predict(test_set[feature_columns])\n",
    "true_labels = test_set[label_column].tolist()\n",
    "\n",
    "print(f1_score(true_labels, predicted_labels))\n",
    "\n",
    "print(le_ut.transform(unique_labels))\n",
    "print(unique_labels)\n",
    "\n",
    "# true_labels = le_ut.inverse_transform(true_labels)\n",
    "# predicted_labels = le_ut.inverse_transform(predicted_labels)\n",
    "\n",
    "print(classification_report(true_labels, predicted_labels))"
   ]
  },
  {
   "cell_type": "code",
   "execution_count": 17,
   "metadata": {
    "ExecuteTime": {
     "end_time": "2020-05-08T21:00:38.731917Z",
     "start_time": "2020-05-08T21:00:38.685069Z"
    }
   },
   "outputs": [
    {
     "data": {
      "text/plain": [
       "array([0.14908834, 0.08786508, 0.08413722, 0.08956929, 0.08464418,\n",
       "       0.05829575, 0.02856103, 0.41783911])"
      ]
     },
     "execution_count": 17,
     "metadata": {},
     "output_type": "execute_result"
    }
   ],
   "source": [
    "clf2.feature_importances_"
   ]
  },
  {
   "cell_type": "code",
   "execution_count": 18,
   "metadata": {
    "ExecuteTime": {
     "end_time": "2020-05-08T21:00:41.670551Z",
     "start_time": "2020-05-08T21:00:38.734482Z"
    }
   },
   "outputs": [
    {
     "name": "stdout",
     "output_type": "stream",
     "text": [
      "10460857 1294607\n",
      "Random under-sampling:\n",
      "usertype\n",
      "0    1294607\n",
      "1    1294607\n",
      "dtype: int64\n"
     ]
    },
    {
     "data": {
      "image/png": "[encoded data removed]",
      "text/plain": [
       "<Figure size 432x288 with 1 Axes>"
      ]
     },
     "metadata": {
      "needs_background": "light"
     },
     "output_type": "display_data"
    }
   ],
   "source": [
    "count_class_0, count_class_1 = train_set[label_column].value_counts()\n",
    "print(count_class_0, count_class_1)\n",
    "# Divide by class\n",
    "df_class_0 = train_set[train_set[label_column] == 1]\n",
    "df_class_1 = train_set[train_set[label_column] == 0]\n",
    "\n",
    "df_class_0_under = df_class_0.sample(count_class_1)\n",
    "df_test_under = pd.concat([df_class_0_under, df_class_1], axis=0)\n",
    "\n",
    "print('Random under-sampling:')\n",
    "print(df_test_under.groupby(label_column).size())\n",
    "\n",
    "df_test_under[label_column].value_counts().plot(kind='bar', title='Count (target)');"
   ]
  },
  {
   "cell_type": "code",
   "execution_count": 19,
   "metadata": {
    "ExecuteTime": {
     "end_time": "2020-05-08T21:01:36.165020Z",
     "start_time": "2020-05-08T21:00:41.672915Z"
    }
   },
   "outputs": [],
   "source": [
    "from sklearn import tree\n",
    "clf3 = tree.DecisionTreeClassifier()\n",
    "clf3 = clf3.fit(\n",
    "    df_test_under[feature_columns], \n",
    "    df_test_under[label_column]\n",
    ")"
   ]
  },
  {
   "cell_type": "code",
   "execution_count": 20,
   "metadata": {
    "ExecuteTime": {
     "end_time": "2020-05-08T21:01:58.220031Z",
     "start_time": "2020-05-08T21:01:36.166714Z"
    }
   },
   "outputs": [
    {
     "name": "stdout",
     "output_type": "stream",
     "text": [
      "0.8887296663399249\n",
      "[1 0]\n",
      "['Subscriber' 'Customer']\n",
      "              precision    recall  f1-score   support\n",
      "\n",
      "           0       0.36      0.83      0.50    637643\n",
      "           1       0.97      0.82      0.89   5152363\n",
      "\n",
      "    accuracy                           0.82   5790006\n",
      "   macro avg       0.67      0.82      0.69   5790006\n",
      "weighted avg       0.91      0.82      0.85   5790006\n",
      "\n"
     ]
    }
   ],
   "source": [
    "from sklearn.metrics import f1_score\n",
    "from sklearn.metrics import classification_report\n",
    "\n",
    "predicted_labels = clf3.predict(test_set[feature_columns])\n",
    "true_labels = test_set[label_column].tolist()\n",
    "\n",
    "print(f1_score(true_labels, predicted_labels))\n",
    "\n",
    "print(le_ut.transform(unique_labels))\n",
    "print(unique_labels)\n",
    "\n",
    "# true_labels = le_ut.inverse_transform(true_labels)\n",
    "# predicted_labels = le_ut.inverse_transform(predicted_labels)\n",
    "\n",
    "print(classification_report(true_labels, predicted_labels))"
   ]
  },
  {
   "cell_type": "code",
   "execution_count": 21,
   "metadata": {
    "ExecuteTime": {
     "end_time": "2020-05-08T21:01:58.235662Z",
     "start_time": "2020-05-08T21:01:58.222373Z"
    }
   },
   "outputs": [
    {
     "data": {
      "text/plain": [
       "array([0.18972562, 0.07573113, 0.06989771, 0.07228421, 0.07006665,\n",
       "       0.07796495, 0.03271747, 0.41161226])"
      ]
     },
     "execution_count": 21,
     "metadata": {},
     "output_type": "execute_result"
    }
   ],
   "source": [
    "clf3.feature_importances_"
   ]
  }
 ],
 "metadata": {
  "hide_input": false,
  "kernelspec": {
   "display_name": "Python 3",
   "language": "python",
   "name": "python3"
  },
  "language_info": {
   "codemirror_mode": {
    "name": "ipython",
    "version": 3
   },
   "file_extension": ".py",
   "mimetype": "text/x-python",
   "name": "python",
   "nbconvert_exporter": "python",
   "pygments_lexer": "ipython3",
   "version": "3.7.7"
  },
  "toc": {
   "base_numbering": 1.0,
   "nav_menu": {},
   "number_sections": true,
   "sideBar": true,
   "skip_h1_title": false,
   "title_cell": "Table of Contents",
   "title_sidebar": "Contents",
   "toc_cell": false,
   "toc_position": {},
   "toc_section_display": true,
   "toc_window_display": false
  }
 },
 "nbformat": 4,
 "nbformat_minor": 4
}
