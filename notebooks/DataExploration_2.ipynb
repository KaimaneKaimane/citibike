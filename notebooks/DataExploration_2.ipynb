{
 "cells": [
  {
   "cell_type": "code",
   "execution_count": 1,
   "metadata": {
    "ExecuteTime": {
     "end_time": "2020-05-07T16:37:27.900838Z",
     "start_time": "2020-05-07T16:37:27.344437Z"
    }
   },
   "outputs": [],
   "source": [
    "import pandas as pd"
   ]
  },
  {
   "cell_type": "code",
   "execution_count": 2,
   "metadata": {
    "ExecuteTime": {
     "end_time": "2020-05-07T16:39:03.900989Z",
     "start_time": "2020-05-07T16:37:27.902488Z"
    }
   },
   "outputs": [
    {
     "name": "stdout",
     "output_type": "stream",
     "text": [
      "Loading month 01\n",
      "Loading month 02\n",
      "Loading month 03\n",
      "Loading month 04\n",
      "Loading month 05\n",
      "Loading month 06\n",
      "Loading month 07\n",
      "Loading month 08\n",
      "Loading month 09\n",
      "Loading month 10\n",
      "Loading month 11\n",
      "Loading month 12\n"
     ]
    }
   ],
   "source": [
    "citibike_data = None\n",
    "\n",
    "for month in range(1,13):\n",
    "    if month < 10:\n",
    "        month_str = f'0{month}'\n",
    "    else:\n",
    "        month_str = f'{month}'\n",
    "    print('Loading month', month_str)\n",
    "    current_month = pd.read_csv(f'../dataset/2018{month_str}-citibike-tripdata.csv')\n",
    "    \n",
    "    if citibike_data is None:\n",
    "        citibike_data = current_month\n",
    "    else:\n",
    "        citibike_data = citibike_data.append(current_month)"
   ]
  },
  {
   "cell_type": "markdown",
   "metadata": {},
   "source": [
    "Prepare data"
   ]
  },
  {
   "cell_type": "code",
   "execution_count": 3,
   "metadata": {
    "ExecuteTime": {
     "end_time": "2020-05-07T16:39:12.030518Z",
     "start_time": "2020-05-07T16:39:03.903008Z"
    }
   },
   "outputs": [],
   "source": [
    "citibike_data = citibike_data.dropna()"
   ]
  },
  {
   "cell_type": "code",
   "execution_count": 4,
   "metadata": {
    "ExecuteTime": {
     "end_time": "2020-05-07T16:39:20.346643Z",
     "start_time": "2020-05-07T16:39:12.032558Z"
    }
   },
   "outputs": [],
   "source": [
    "import numpy as np\n",
    "\n",
    "citibike_data['starttime'] = pd.to_datetime(citibike_data['starttime'])\n",
    "citibike_data['stoptime'] = pd.to_datetime(citibike_data['stoptime'])\n",
    "\n",
    "citibike_data['tripduration'] = (citibike_data['stoptime'] - citibike_data['starttime']).dt.total_seconds().apply(np.floor).astype(int)"
   ]
  },
  {
   "cell_type": "code",
   "execution_count": 6,
   "metadata": {
    "ExecuteTime": {
     "end_time": "2020-05-07T16:39:21.011581Z",
     "start_time": "2020-05-07T16:39:20.354354Z"
    }
   },
   "outputs": [],
   "source": [
    "filter_columns = [\n",
    "    'tripduration', \n",
    "    'starttime', \n",
    "    'stoptime', \n",
    "    'start station id',\n",
    "    'start station latitude',\n",
    "    'start station longitude',\n",
    "    'end station id',\n",
    "    'end station latitude',\n",
    "    'end station longitude',\n",
    "    'usertype',\n",
    "    'gender'\n",
    "]\n",
    "citibike_data = citibike_data[filter_columns]"
   ]
  },
  {
   "cell_type": "code",
   "execution_count": 7,
   "metadata": {
    "ExecuteTime": {
     "end_time": "2020-05-07T16:39:21.800819Z",
     "start_time": "2020-05-07T16:39:21.013247Z"
    }
   },
   "outputs": [],
   "source": [
    "citibike_data = citibike_data[citibike_data['tripduration'] <= 20*24*60*60]"
   ]
  },
  {
   "cell_type": "code",
   "execution_count": 58,
   "metadata": {
    "ExecuteTime": {
     "end_time": "2020-05-07T17:16:29.562814Z",
     "start_time": "2020-05-07T17:16:29.497690Z"
    }
   },
   "outputs": [
    {
     "name": "stdout",
     "output_type": "stream",
     "text": [
      "1726200\n"
     ]
    },
    {
     "data": {
      "text/plain": [
       "1725410"
      ]
     },
     "execution_count": 58,
     "metadata": {},
     "output_type": "execute_result"
    }
   ],
   "source": [
    "import math\n",
    "interval_300 = 300 # 5 minutes\n",
    "max_range_300 = (math.ceil(citibike_data['tripduration'].max() / interval_300) + 1) * interval_300\n",
    "ranges_300 = list(range(0, max_range_300, interval_300))\n",
    "interval_900 = 900 # 15 minutes\n",
    "max_range_900 = (math.ceil(citibike_data['tripduration'].max() / interval_900) + 1) * interval_900\n",
    "ranges_900 = list(range(0, max_range_900, interval_900))\n",
    "print(ranges_900[-1])\n",
    "citibike_data['tripduration'].max()"
   ]
  },
  {
   "cell_type": "code",
   "execution_count": 59,
   "metadata": {
    "ExecuteTime": {
     "end_time": "2020-05-07T17:16:37.727250Z",
     "start_time": "2020-05-07T17:16:36.440621Z"
    }
   },
   "outputs": [],
   "source": [
    "citibike_data['tripduration_300'] = pd.cut(citibike_data['tripduration'], ranges_300)\n",
    "citibike_data['tripduration_900'] = pd.cut(citibike_data['tripduration'], ranges_900)"
   ]
  },
  {
   "cell_type": "code",
   "execution_count": 60,
   "metadata": {
    "ExecuteTime": {
     "end_time": "2020-05-07T17:16:41.724596Z",
     "start_time": "2020-05-07T17:16:38.776787Z"
    }
   },
   "outputs": [
    {
     "data": {
      "text/plain": [
       "<matplotlib.axes._subplots.AxesSubplot at 0x7f5a5a0d4890>"
      ]
     },
     "execution_count": 60,
     "metadata": {},
     "output_type": "execute_result"
    },
    {
     "data": {
      "image/png": "[encoded data removed]",
      "text/plain": [
       "<Figure size 432x288 with 1 Axes>"
      ]
     },
     "metadata": {
      "needs_background": "light"
     },
     "output_type": "display_data"
    }
   ],
   "source": [
    "duration_bins = citibike_data[citibike_data['tripduration'] < 7200].groupby(['tripduration_300', 'usertype']).size()\n",
    "\n",
    "index_subselection = duration_bins.index.to_list()[:24]\n",
    "duration_bins.index\n",
    "duration_bins[duration_bins.index.isin(index_subselection)].unstack().plot(kind='bar', stacked=True)"
   ]
  },
  {
   "cell_type": "code",
   "execution_count": 61,
   "metadata": {
    "ExecuteTime": {
     "end_time": "2020-05-07T17:16:46.844271Z",
     "start_time": "2020-05-07T17:16:45.231961Z"
    }
   },
   "outputs": [
    {
     "data": {
      "text/plain": [
       "<matplotlib.axes._subplots.AxesSubplot at 0x7f5ae7ec93d0>"
      ]
     },
     "execution_count": 61,
     "metadata": {},
     "output_type": "execute_result"
    },
    {
     "data": {
      "image/png": "[encoded data removed]",
      "text/plain": [
       "<Figure size 432x288 with 1 Axes>"
      ]
     },
     "metadata": {
      "needs_background": "light"
     },
     "output_type": "display_data"
    }
   ],
   "source": [
    "duration_bins = citibike_data.groupby(['tripduration_900', 'usertype']).size()\n",
    "\n",
    "index_subselection = duration_bins.index.to_list()[:24]\n",
    "duration_bins.index\n",
    "duration_bins[duration_bins.index.isin(index_subselection)].unstack().plot(kind='bar', stacked=True)"
   ]
  },
  {
   "cell_type": "code",
   "execution_count": 48,
   "metadata": {
    "ExecuteTime": {
     "end_time": "2020-05-07T17:08:48.154207Z",
     "start_time": "2020-05-07T17:08:46.493091Z"
    }
   },
   "outputs": [
    {
     "data": {
      "text/html": [
       "<div>\n",
       "<style scoped>\n",
       "    .dataframe tbody tr th:only-of-type {\n",
       "        vertical-align: middle;\n",
       "    }\n",
       "\n",
       "    .dataframe tbody tr th {\n",
       "        vertical-align: top;\n",
       "    }\n",
       "\n",
       "    .dataframe thead th {\n",
       "        text-align: right;\n",
       "    }\n",
       "</style>\n",
       "<table border=\"1\" class=\"dataframe\">\n",
       "  <thead>\n",
       "    <tr style=\"text-align: right;\">\n",
       "      <th></th>\n",
       "      <th>usertype</th>\n",
       "      <th>tripduration_bin</th>\n",
       "    </tr>\n",
       "  </thead>\n",
       "  <tbody>\n",
       "    <tr>\n",
       "      <th>usertype</th>\n",
       "      <td>1.000000</td>\n",
       "      <td>0.072172</td>\n",
       "    </tr>\n",
       "    <tr>\n",
       "      <th>tripduration_bin</th>\n",
       "      <td>0.072172</td>\n",
       "      <td>1.000000</td>\n",
       "    </tr>\n",
       "  </tbody>\n",
       "</table>\n",
       "</div>"
      ],
      "text/plain": [
       "                  usertype  tripduration_bin\n",
       "usertype          1.000000          0.072172\n",
       "tripduration_bin  0.072172          1.000000"
      ]
     },
     "execution_count": 48,
     "metadata": {},
     "output_type": "execute_result"
    }
   ],
   "source": [
    "columns = [\n",
    "    'usertype', \n",
    "    'tripduration_bin'\n",
    "]\n",
    "citibike_data[columns].apply(lambda x : pd.factorize(x)[0]).corr(method='pearson', min_periods=1)"
   ]
  },
  {
   "cell_type": "code",
   "execution_count": 63,
   "metadata": {
    "ExecuteTime": {
     "end_time": "2020-05-07T17:22:15.770546Z",
     "start_time": "2020-05-07T17:22:05.951368Z"
    }
   },
   "outputs": [],
   "source": [
    "citibike_data['start_month'] = citibike_data['starttime'].dt.month_name()\n",
    "citibike_data['stop_month'] = citibike_data['stoptime'].dt.month_name()"
   ]
  },
  {
   "cell_type": "code",
   "execution_count": 64,
   "metadata": {
    "ExecuteTime": {
     "end_time": "2020-05-07T17:22:39.212642Z",
     "start_time": "2020-05-07T17:22:32.426231Z"
    }
   },
   "outputs": [
    {
     "data": {
      "text/html": [
       "<div>\n",
       "<style scoped>\n",
       "    .dataframe tbody tr th:only-of-type {\n",
       "        vertical-align: middle;\n",
       "    }\n",
       "\n",
       "    .dataframe tbody tr th {\n",
       "        vertical-align: top;\n",
       "    }\n",
       "\n",
       "    .dataframe thead th {\n",
       "        text-align: right;\n",
       "    }\n",
       "</style>\n",
       "<table border=\"1\" class=\"dataframe\">\n",
       "  <thead>\n",
       "    <tr style=\"text-align: right;\">\n",
       "      <th></th>\n",
       "      <th>usertype</th>\n",
       "      <th>start_month</th>\n",
       "      <th>stop_month</th>\n",
       "    </tr>\n",
       "  </thead>\n",
       "  <tbody>\n",
       "    <tr>\n",
       "      <th>usertype</th>\n",
       "      <td>1.000000</td>\n",
       "      <td>0.023512</td>\n",
       "      <td>0.023528</td>\n",
       "    </tr>\n",
       "    <tr>\n",
       "      <th>start_month</th>\n",
       "      <td>0.023512</td>\n",
       "      <td>1.000000</td>\n",
       "      <td>0.999971</td>\n",
       "    </tr>\n",
       "    <tr>\n",
       "      <th>stop_month</th>\n",
       "      <td>0.023528</td>\n",
       "      <td>0.999971</td>\n",
       "      <td>1.000000</td>\n",
       "    </tr>\n",
       "  </tbody>\n",
       "</table>\n",
       "</div>"
      ],
      "text/plain": [
       "             usertype  start_month  stop_month\n",
       "usertype     1.000000     0.023512    0.023528\n",
       "start_month  0.023512     1.000000    0.999971\n",
       "stop_month   0.023528     0.999971    1.000000"
      ]
     },
     "execution_count": 64,
     "metadata": {},
     "output_type": "execute_result"
    }
   ],
   "source": [
    "columns = [\n",
    "    'usertype', \n",
    "    'start_month',\n",
    "    'stop_month'\n",
    "]\n",
    "citibike_data[columns].apply(lambda x : pd.factorize(x)[0]).corr(method='pearson', min_periods=1)"
   ]
  },
  {
   "cell_type": "code",
   "execution_count": 70,
   "metadata": {
    "ExecuteTime": {
     "end_time": "2020-05-07T17:29:13.788344Z",
     "start_time": "2020-05-07T17:29:12.155645Z"
    }
   },
   "outputs": [
    {
     "data": {
      "text/plain": [
       "<matplotlib.axes._subplots.AxesSubplot at 0x7f5a97d57150>"
      ]
     },
     "execution_count": 70,
     "metadata": {},
     "output_type": "execute_result"
    },
    {
     "data": {
      "image/png": "[encoded data removed]",
      "text/plain": [
       "<Figure size 432x288 with 1 Axes>"
      ]
     },
     "metadata": {
      "needs_background": "light"
     },
     "output_type": "display_data"
    }
   ],
   "source": [
    "months = [\n",
    "    'January', \n",
    "    'February', \n",
    "    'March', \n",
    "    'April', \n",
    "    'May', \n",
    "    'June', \n",
    "    'July', \n",
    "    'August', \n",
    "    'September', \n",
    "    'October', \n",
    "    'November', \n",
    "    'December'\n",
    "]\n",
    "citibike_data['start_month'].value_counts()[months].plot(kind=\"bar\")"
   ]
  },
  {
   "cell_type": "code",
   "execution_count": 75,
   "metadata": {
    "ExecuteTime": {
     "end_time": "2020-05-07T17:30:36.523119Z",
     "start_time": "2020-05-07T17:30:34.910399Z"
    }
   },
   "outputs": [
    {
     "data": {
      "text/plain": [
       "<matplotlib.axes._subplots.AxesSubplot at 0x7f5a97ad27d0>"
      ]
     },
     "execution_count": 75,
     "metadata": {},
     "output_type": "execute_result"
    },
    {
     "data": {
      "image/png": "[encoded data removed]",
      "text/plain": [
       "<Figure size 432x288 with 1 Axes>"
      ]
     },
     "metadata": {
      "needs_background": "light"
     },
     "output_type": "display_data"
    }
   ],
   "source": [
    "citibike_data['stop_month'].value_counts()[months].plot(kind=\"bar\")"
   ]
  }
 ],
 "metadata": {
  "hide_input": false,
  "kernelspec": {
   "display_name": "Python 3",
   "language": "python",
   "name": "python3"
  },
  "language_info": {
   "codemirror_mode": {
    "name": "ipython",
    "version": 3
   },
   "file_extension": ".py",
   "mimetype": "text/x-python",
   "name": "python",
   "nbconvert_exporter": "python",
   "pygments_lexer": "ipython3",
   "version": "3.7.7"
  },
  "toc": {
   "base_numbering": 1.0,
   "nav_menu": {},
   "number_sections": true,
   "sideBar": true,
   "skip_h1_title": false,
   "title_cell": "Table of Contents",
   "title_sidebar": "Contents",
   "toc_cell": false,
   "toc_position": {},
   "toc_section_display": true,
   "toc_window_display": false
  }
 },
 "nbformat": 4,
 "nbformat_minor": 4
}
