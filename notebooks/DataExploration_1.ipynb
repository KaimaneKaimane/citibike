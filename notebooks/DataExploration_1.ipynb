{
 "cells": [
  {
   "cell_type": "code",
   "execution_count": 1,
   "metadata": {
    "ExecuteTime": {
     "end_time": "2020-05-07T15:56:19.246198Z",
     "start_time": "2020-05-07T15:56:18.691618Z"
    }
   },
   "outputs": [],
   "source": [
    "import pandas as pd"
   ]
  },
  {
   "cell_type": "code",
   "execution_count": 2,
   "metadata": {
    "ExecuteTime": {
     "end_time": "2020-05-07T15:57:52.832245Z",
     "start_time": "2020-05-07T15:56:19.247908Z"
    }
   },
   "outputs": [],
   "source": [
    "citibike_data = None\n",
    "\n",
    "for month in range(1,13):\n",
    "    if month < 10:\n",
    "        month_str = f'0{month}'\n",
    "    else:\n",
    "        month_str = f'{month}'\n",
    "    \n",
    "    current_month = pd.read_csv(f'../dataset/2018{month_str}-citibike-tripdata.csv')\n",
    "    \n",
    "    if citibike_data is None:\n",
    "        citibike_data = current_month\n",
    "    else:\n",
    "        citibike_data = citibike_data.append(current_month)"
   ]
  },
  {
   "cell_type": "code",
   "execution_count": 3,
   "metadata": {
    "ExecuteTime": {
     "end_time": "2020-05-07T15:57:52.890670Z",
     "start_time": "2020-05-07T15:57:52.834582Z"
    }
   },
   "outputs": [
    {
     "data": {
      "text/html": [
       "<div>\n",
       "<style scoped>\n",
       "    .dataframe tbody tr th:only-of-type {\n",
       "        vertical-align: middle;\n",
       "    }\n",
       "\n",
       "    .dataframe tbody tr th {\n",
       "        vertical-align: top;\n",
       "    }\n",
       "\n",
       "    .dataframe thead th {\n",
       "        text-align: right;\n",
       "    }\n",
       "</style>\n",
       "<table border=\"1\" class=\"dataframe\">\n",
       "  <thead>\n",
       "    <tr style=\"text-align: right;\">\n",
       "      <th></th>\n",
       "      <th>tripduration</th>\n",
       "      <th>starttime</th>\n",
       "      <th>stoptime</th>\n",
       "      <th>start station id</th>\n",
       "      <th>start station name</th>\n",
       "      <th>start station latitude</th>\n",
       "      <th>start station longitude</th>\n",
       "      <th>end station id</th>\n",
       "      <th>end station name</th>\n",
       "      <th>end station latitude</th>\n",
       "      <th>end station longitude</th>\n",
       "      <th>bikeid</th>\n",
       "      <th>usertype</th>\n",
       "      <th>birth year</th>\n",
       "      <th>gender</th>\n",
       "    </tr>\n",
       "  </thead>\n",
       "  <tbody>\n",
       "    <tr>\n",
       "      <th>0</th>\n",
       "      <td>970</td>\n",
       "      <td>2018-01-01 13:50:57.4340</td>\n",
       "      <td>2018-01-01 14:07:08.1860</td>\n",
       "      <td>72.0</td>\n",
       "      <td>W 52 St &amp; 11 Ave</td>\n",
       "      <td>40.767272</td>\n",
       "      <td>-73.993929</td>\n",
       "      <td>505.0</td>\n",
       "      <td>6 Ave &amp; W 33 St</td>\n",
       "      <td>40.749013</td>\n",
       "      <td>-73.988484</td>\n",
       "      <td>31956</td>\n",
       "      <td>Subscriber</td>\n",
       "      <td>1992</td>\n",
       "      <td>1</td>\n",
       "    </tr>\n",
       "    <tr>\n",
       "      <th>1</th>\n",
       "      <td>723</td>\n",
       "      <td>2018-01-01 15:33:30.1820</td>\n",
       "      <td>2018-01-01 15:45:33.3410</td>\n",
       "      <td>72.0</td>\n",
       "      <td>W 52 St &amp; 11 Ave</td>\n",
       "      <td>40.767272</td>\n",
       "      <td>-73.993929</td>\n",
       "      <td>3255.0</td>\n",
       "      <td>8 Ave &amp; W 31 St</td>\n",
       "      <td>40.750585</td>\n",
       "      <td>-73.994685</td>\n",
       "      <td>32536</td>\n",
       "      <td>Subscriber</td>\n",
       "      <td>1969</td>\n",
       "      <td>1</td>\n",
       "    </tr>\n",
       "    <tr>\n",
       "      <th>2</th>\n",
       "      <td>496</td>\n",
       "      <td>2018-01-01 15:39:18.3370</td>\n",
       "      <td>2018-01-01 15:47:35.1720</td>\n",
       "      <td>72.0</td>\n",
       "      <td>W 52 St &amp; 11 Ave</td>\n",
       "      <td>40.767272</td>\n",
       "      <td>-73.993929</td>\n",
       "      <td>525.0</td>\n",
       "      <td>W 34 St &amp; 11 Ave</td>\n",
       "      <td>40.755942</td>\n",
       "      <td>-74.002116</td>\n",
       "      <td>16069</td>\n",
       "      <td>Subscriber</td>\n",
       "      <td>1956</td>\n",
       "      <td>1</td>\n",
       "    </tr>\n",
       "    <tr>\n",
       "      <th>3</th>\n",
       "      <td>306</td>\n",
       "      <td>2018-01-01 15:40:13.3720</td>\n",
       "      <td>2018-01-01 15:45:20.1910</td>\n",
       "      <td>72.0</td>\n",
       "      <td>W 52 St &amp; 11 Ave</td>\n",
       "      <td>40.767272</td>\n",
       "      <td>-73.993929</td>\n",
       "      <td>447.0</td>\n",
       "      <td>8 Ave &amp; W 52 St</td>\n",
       "      <td>40.763707</td>\n",
       "      <td>-73.985162</td>\n",
       "      <td>31781</td>\n",
       "      <td>Subscriber</td>\n",
       "      <td>1974</td>\n",
       "      <td>1</td>\n",
       "    </tr>\n",
       "    <tr>\n",
       "      <th>4</th>\n",
       "      <td>306</td>\n",
       "      <td>2018-01-01 18:14:51.5680</td>\n",
       "      <td>2018-01-01 18:19:57.6420</td>\n",
       "      <td>72.0</td>\n",
       "      <td>W 52 St &amp; 11 Ave</td>\n",
       "      <td>40.767272</td>\n",
       "      <td>-73.993929</td>\n",
       "      <td>3356.0</td>\n",
       "      <td>Amsterdam Ave &amp; W 66 St</td>\n",
       "      <td>40.774667</td>\n",
       "      <td>-73.984706</td>\n",
       "      <td>30319</td>\n",
       "      <td>Subscriber</td>\n",
       "      <td>1992</td>\n",
       "      <td>1</td>\n",
       "    </tr>\n",
       "    <tr>\n",
       "      <th>...</th>\n",
       "      <td>...</td>\n",
       "      <td>...</td>\n",
       "      <td>...</td>\n",
       "      <td>...</td>\n",
       "      <td>...</td>\n",
       "      <td>...</td>\n",
       "      <td>...</td>\n",
       "      <td>...</td>\n",
       "      <td>...</td>\n",
       "      <td>...</td>\n",
       "      <td>...</td>\n",
       "      <td>...</td>\n",
       "      <td>...</td>\n",
       "      <td>...</td>\n",
       "      <td>...</td>\n",
       "    </tr>\n",
       "    <tr>\n",
       "      <th>1016500</th>\n",
       "      <td>734</td>\n",
       "      <td>2018-12-31 23:55:06.9910</td>\n",
       "      <td>2019-01-01 00:07:21.2300</td>\n",
       "      <td>336.0</td>\n",
       "      <td>Sullivan St &amp; Washington Sq</td>\n",
       "      <td>40.730477</td>\n",
       "      <td>-73.999061</td>\n",
       "      <td>379.0</td>\n",
       "      <td>W 31 St &amp; 7 Ave</td>\n",
       "      <td>40.749156</td>\n",
       "      <td>-73.991600</td>\n",
       "      <td>27111</td>\n",
       "      <td>Subscriber</td>\n",
       "      <td>1986</td>\n",
       "      <td>1</td>\n",
       "    </tr>\n",
       "    <tr>\n",
       "      <th>1016501</th>\n",
       "      <td>2551</td>\n",
       "      <td>2018-12-31 23:55:44.3070</td>\n",
       "      <td>2019-01-01 00:38:15.7820</td>\n",
       "      <td>3320.0</td>\n",
       "      <td>Central Park West &amp; W 100 St</td>\n",
       "      <td>40.794067</td>\n",
       "      <td>-73.962868</td>\n",
       "      <td>2006.0</td>\n",
       "      <td>Central Park S &amp; 6 Ave</td>\n",
       "      <td>40.765909</td>\n",
       "      <td>-73.976342</td>\n",
       "      <td>16390</td>\n",
       "      <td>Customer</td>\n",
       "      <td>1969</td>\n",
       "      <td>0</td>\n",
       "    </tr>\n",
       "    <tr>\n",
       "      <th>1016502</th>\n",
       "      <td>2376</td>\n",
       "      <td>2018-12-31 23:56:52.8500</td>\n",
       "      <td>2019-01-01 00:36:29.2860</td>\n",
       "      <td>427.0</td>\n",
       "      <td>Bus Slip &amp; State St</td>\n",
       "      <td>40.701907</td>\n",
       "      <td>-74.013942</td>\n",
       "      <td>259.0</td>\n",
       "      <td>South St &amp; Whitehall St</td>\n",
       "      <td>40.701221</td>\n",
       "      <td>-74.012342</td>\n",
       "      <td>34398</td>\n",
       "      <td>Subscriber</td>\n",
       "      <td>1979</td>\n",
       "      <td>1</td>\n",
       "    </tr>\n",
       "    <tr>\n",
       "      <th>1016503</th>\n",
       "      <td>2758</td>\n",
       "      <td>2018-12-31 23:58:29.2120</td>\n",
       "      <td>2019-01-01 00:44:27.5170</td>\n",
       "      <td>3320.0</td>\n",
       "      <td>Central Park West &amp; W 100 St</td>\n",
       "      <td>40.794067</td>\n",
       "      <td>-73.962868</td>\n",
       "      <td>281.0</td>\n",
       "      <td>Grand Army Plaza &amp; Central Park S</td>\n",
       "      <td>40.764397</td>\n",
       "      <td>-73.973715</td>\n",
       "      <td>30818</td>\n",
       "      <td>Customer</td>\n",
       "      <td>1969</td>\n",
       "      <td>0</td>\n",
       "    </tr>\n",
       "    <tr>\n",
       "      <th>1016504</th>\n",
       "      <td>2459</td>\n",
       "      <td>2018-12-31 23:59:51.0850</td>\n",
       "      <td>2019-01-01 00:40:50.8800</td>\n",
       "      <td>128.0</td>\n",
       "      <td>MacDougal St &amp; Prince St</td>\n",
       "      <td>40.727103</td>\n",
       "      <td>-74.002971</td>\n",
       "      <td>402.0</td>\n",
       "      <td>Broadway &amp; E 22 St</td>\n",
       "      <td>40.740343</td>\n",
       "      <td>-73.989551</td>\n",
       "      <td>34775</td>\n",
       "      <td>Subscriber</td>\n",
       "      <td>1996</td>\n",
       "      <td>2</td>\n",
       "    </tr>\n",
       "  </tbody>\n",
       "</table>\n",
       "<p>17548339 rows × 15 columns</p>\n",
       "</div>"
      ],
      "text/plain": [
       "         tripduration                 starttime                  stoptime  \\\n",
       "0                 970  2018-01-01 13:50:57.4340  2018-01-01 14:07:08.1860   \n",
       "1                 723  2018-01-01 15:33:30.1820  2018-01-01 15:45:33.3410   \n",
       "2                 496  2018-01-01 15:39:18.3370  2018-01-01 15:47:35.1720   \n",
       "3                 306  2018-01-01 15:40:13.3720  2018-01-01 15:45:20.1910   \n",
       "4                 306  2018-01-01 18:14:51.5680  2018-01-01 18:19:57.6420   \n",
       "...               ...                       ...                       ...   \n",
       "1016500           734  2018-12-31 23:55:06.9910  2019-01-01 00:07:21.2300   \n",
       "1016501          2551  2018-12-31 23:55:44.3070  2019-01-01 00:38:15.7820   \n",
       "1016502          2376  2018-12-31 23:56:52.8500  2019-01-01 00:36:29.2860   \n",
       "1016503          2758  2018-12-31 23:58:29.2120  2019-01-01 00:44:27.5170   \n",
       "1016504          2459  2018-12-31 23:59:51.0850  2019-01-01 00:40:50.8800   \n",
       "\n",
       "         start station id            start station name  \\\n",
       "0                    72.0              W 52 St & 11 Ave   \n",
       "1                    72.0              W 52 St & 11 Ave   \n",
       "2                    72.0              W 52 St & 11 Ave   \n",
       "3                    72.0              W 52 St & 11 Ave   \n",
       "4                    72.0              W 52 St & 11 Ave   \n",
       "...                   ...                           ...   \n",
       "1016500             336.0   Sullivan St & Washington Sq   \n",
       "1016501            3320.0  Central Park West & W 100 St   \n",
       "1016502             427.0           Bus Slip & State St   \n",
       "1016503            3320.0  Central Park West & W 100 St   \n",
       "1016504             128.0      MacDougal St & Prince St   \n",
       "\n",
       "         start station latitude  start station longitude  end station id  \\\n",
       "0                     40.767272               -73.993929           505.0   \n",
       "1                     40.767272               -73.993929          3255.0   \n",
       "2                     40.767272               -73.993929           525.0   \n",
       "3                     40.767272               -73.993929           447.0   \n",
       "4                     40.767272               -73.993929          3356.0   \n",
       "...                         ...                      ...             ...   \n",
       "1016500               40.730477               -73.999061           379.0   \n",
       "1016501               40.794067               -73.962868          2006.0   \n",
       "1016502               40.701907               -74.013942           259.0   \n",
       "1016503               40.794067               -73.962868           281.0   \n",
       "1016504               40.727103               -74.002971           402.0   \n",
       "\n",
       "                          end station name  end station latitude  \\\n",
       "0                          6 Ave & W 33 St             40.749013   \n",
       "1                          8 Ave & W 31 St             40.750585   \n",
       "2                         W 34 St & 11 Ave             40.755942   \n",
       "3                          8 Ave & W 52 St             40.763707   \n",
       "4                  Amsterdam Ave & W 66 St             40.774667   \n",
       "...                                    ...                   ...   \n",
       "1016500                    W 31 St & 7 Ave             40.749156   \n",
       "1016501             Central Park S & 6 Ave             40.765909   \n",
       "1016502            South St & Whitehall St             40.701221   \n",
       "1016503  Grand Army Plaza & Central Park S             40.764397   \n",
       "1016504                 Broadway & E 22 St             40.740343   \n",
       "\n",
       "         end station longitude  bikeid    usertype  birth year  gender  \n",
       "0                   -73.988484   31956  Subscriber        1992       1  \n",
       "1                   -73.994685   32536  Subscriber        1969       1  \n",
       "2                   -74.002116   16069  Subscriber        1956       1  \n",
       "3                   -73.985162   31781  Subscriber        1974       1  \n",
       "4                   -73.984706   30319  Subscriber        1992       1  \n",
       "...                        ...     ...         ...         ...     ...  \n",
       "1016500             -73.991600   27111  Subscriber        1986       1  \n",
       "1016501             -73.976342   16390    Customer        1969       0  \n",
       "1016502             -74.012342   34398  Subscriber        1979       1  \n",
       "1016503             -73.973715   30818    Customer        1969       0  \n",
       "1016504             -73.989551   34775  Subscriber        1996       2  \n",
       "\n",
       "[17548339 rows x 15 columns]"
      ]
     },
     "execution_count": 3,
     "metadata": {},
     "output_type": "execute_result"
    }
   ],
   "source": [
    "citibike_data"
   ]
  },
  {
   "cell_type": "code",
   "execution_count": 4,
   "metadata": {
    "ExecuteTime": {
     "end_time": "2020-05-07T15:58:01.610101Z",
     "start_time": "2020-05-07T15:57:52.893458Z"
    }
   },
   "outputs": [
    {
     "data": {
      "text/html": [
       "<div>\n",
       "<style scoped>\n",
       "    .dataframe tbody tr th:only-of-type {\n",
       "        vertical-align: middle;\n",
       "    }\n",
       "\n",
       "    .dataframe tbody tr th {\n",
       "        vertical-align: top;\n",
       "    }\n",
       "\n",
       "    .dataframe thead th {\n",
       "        text-align: right;\n",
       "    }\n",
       "</style>\n",
       "<table border=\"1\" class=\"dataframe\">\n",
       "  <thead>\n",
       "    <tr style=\"text-align: right;\">\n",
       "      <th></th>\n",
       "      <th>tripduration</th>\n",
       "      <th>start station id</th>\n",
       "      <th>start station latitude</th>\n",
       "      <th>start station longitude</th>\n",
       "      <th>end station id</th>\n",
       "      <th>end station latitude</th>\n",
       "      <th>end station longitude</th>\n",
       "      <th>bikeid</th>\n",
       "      <th>birth year</th>\n",
       "      <th>gender</th>\n",
       "    </tr>\n",
       "  </thead>\n",
       "  <tbody>\n",
       "    <tr>\n",
       "      <th>count</th>\n",
       "      <td>1.754834e+07</td>\n",
       "      <td>1.754584e+07</td>\n",
       "      <td>1.754834e+07</td>\n",
       "      <td>1.754834e+07</td>\n",
       "      <td>1.754584e+07</td>\n",
       "      <td>1.754834e+07</td>\n",
       "      <td>1.754834e+07</td>\n",
       "      <td>1.754834e+07</td>\n",
       "      <td>1.754834e+07</td>\n",
       "      <td>1.754834e+07</td>\n",
       "    </tr>\n",
       "    <tr>\n",
       "      <th>mean</th>\n",
       "      <td>9.887432e+02</td>\n",
       "      <td>1.589282e+03</td>\n",
       "      <td>4.073737e+01</td>\n",
       "      <td>-7.398260e+01</td>\n",
       "      <td>1.580830e+03</td>\n",
       "      <td>4.073704e+01</td>\n",
       "      <td>-7.398281e+01</td>\n",
       "      <td>2.656141e+04</td>\n",
       "      <td>1.978993e+03</td>\n",
       "      <td>1.148613e+00</td>\n",
       "    </tr>\n",
       "    <tr>\n",
       "      <th>std</th>\n",
       "      <td>1.889584e+04</td>\n",
       "      <td>1.439432e+03</td>\n",
       "      <td>3.225813e-02</td>\n",
       "      <td>1.912753e-02</td>\n",
       "      <td>1.438502e+03</td>\n",
       "      <td>3.206583e-02</td>\n",
       "      <td>1.919611e-02</td>\n",
       "      <td>6.222916e+03</td>\n",
       "      <td>1.192922e+01</td>\n",
       "      <td>5.438043e-01</td>\n",
       "    </tr>\n",
       "    <tr>\n",
       "      <th>min</th>\n",
       "      <td>6.100000e+01</td>\n",
       "      <td>7.200000e+01</td>\n",
       "      <td>4.064654e+01</td>\n",
       "      <td>-7.402535e+01</td>\n",
       "      <td>7.200000e+01</td>\n",
       "      <td>4.064654e+01</td>\n",
       "      <td>-7.408364e+01</td>\n",
       "      <td>1.452900e+04</td>\n",
       "      <td>1.885000e+03</td>\n",
       "      <td>0.000000e+00</td>\n",
       "    </tr>\n",
       "    <tr>\n",
       "      <th>25%</th>\n",
       "      <td>3.580000e+02</td>\n",
       "      <td>3.800000e+02</td>\n",
       "      <td>4.071755e+01</td>\n",
       "      <td>-7.399521e+01</td>\n",
       "      <td>3.800000e+02</td>\n",
       "      <td>4.071755e+01</td>\n",
       "      <td>-7.399595e+01</td>\n",
       "      <td>2.029300e+04</td>\n",
       "      <td>1.969000e+03</td>\n",
       "      <td>1.000000e+00</td>\n",
       "    </tr>\n",
       "    <tr>\n",
       "      <th>50%</th>\n",
       "      <td>6.050000e+02</td>\n",
       "      <td>5.050000e+02</td>\n",
       "      <td>4.073818e+01</td>\n",
       "      <td>-7.398565e+01</td>\n",
       "      <td>5.050000e+02</td>\n",
       "      <td>4.073756e+01</td>\n",
       "      <td>-7.398602e+01</td>\n",
       "      <td>2.827000e+04</td>\n",
       "      <td>1.981000e+03</td>\n",
       "      <td>1.000000e+00</td>\n",
       "    </tr>\n",
       "    <tr>\n",
       "      <th>75%</th>\n",
       "      <td>1.060000e+03</td>\n",
       "      <td>3.249000e+03</td>\n",
       "      <td>4.075763e+01</td>\n",
       "      <td>-7.397283e+01</td>\n",
       "      <td>3.249000e+03</td>\n",
       "      <td>4.075725e+01</td>\n",
       "      <td>-7.397344e+01</td>\n",
       "      <td>3.185200e+04</td>\n",
       "      <td>1.989000e+03</td>\n",
       "      <td>1.000000e+00</td>\n",
       "    </tr>\n",
       "    <tr>\n",
       "      <th>max</th>\n",
       "      <td>1.951005e+07</td>\n",
       "      <td>3.721000e+03</td>\n",
       "      <td>4.550636e+01</td>\n",
       "      <td>-7.356891e+01</td>\n",
       "      <td>3.721000e+03</td>\n",
       "      <td>4.550636e+01</td>\n",
       "      <td>-7.356891e+01</td>\n",
       "      <td>3.583100e+04</td>\n",
       "      <td>2.002000e+03</td>\n",
       "      <td>2.000000e+00</td>\n",
       "    </tr>\n",
       "  </tbody>\n",
       "</table>\n",
       "</div>"
      ],
      "text/plain": [
       "       tripduration  start station id  start station latitude  \\\n",
       "count  1.754834e+07      1.754584e+07            1.754834e+07   \n",
       "mean   9.887432e+02      1.589282e+03            4.073737e+01   \n",
       "std    1.889584e+04      1.439432e+03            3.225813e-02   \n",
       "min    6.100000e+01      7.200000e+01            4.064654e+01   \n",
       "25%    3.580000e+02      3.800000e+02            4.071755e+01   \n",
       "50%    6.050000e+02      5.050000e+02            4.073818e+01   \n",
       "75%    1.060000e+03      3.249000e+03            4.075763e+01   \n",
       "max    1.951005e+07      3.721000e+03            4.550636e+01   \n",
       "\n",
       "       start station longitude  end station id  end station latitude  \\\n",
       "count             1.754834e+07    1.754584e+07          1.754834e+07   \n",
       "mean             -7.398260e+01    1.580830e+03          4.073704e+01   \n",
       "std               1.912753e-02    1.438502e+03          3.206583e-02   \n",
       "min              -7.402535e+01    7.200000e+01          4.064654e+01   \n",
       "25%              -7.399521e+01    3.800000e+02          4.071755e+01   \n",
       "50%              -7.398565e+01    5.050000e+02          4.073756e+01   \n",
       "75%              -7.397283e+01    3.249000e+03          4.075725e+01   \n",
       "max              -7.356891e+01    3.721000e+03          4.550636e+01   \n",
       "\n",
       "       end station longitude        bikeid    birth year        gender  \n",
       "count           1.754834e+07  1.754834e+07  1.754834e+07  1.754834e+07  \n",
       "mean           -7.398281e+01  2.656141e+04  1.978993e+03  1.148613e+00  \n",
       "std             1.919611e-02  6.222916e+03  1.192922e+01  5.438043e-01  \n",
       "min            -7.408364e+01  1.452900e+04  1.885000e+03  0.000000e+00  \n",
       "25%            -7.399595e+01  2.029300e+04  1.969000e+03  1.000000e+00  \n",
       "50%            -7.398602e+01  2.827000e+04  1.981000e+03  1.000000e+00  \n",
       "75%            -7.397344e+01  3.185200e+04  1.989000e+03  1.000000e+00  \n",
       "max            -7.356891e+01  3.583100e+04  2.002000e+03  2.000000e+00  "
      ]
     },
     "execution_count": 4,
     "metadata": {},
     "output_type": "execute_result"
    }
   ],
   "source": [
    "citibike_data.describe()"
   ]
  },
  {
   "cell_type": "markdown",
   "metadata": {},
   "source": [
    "Check for null values"
   ]
  },
  {
   "cell_type": "code",
   "execution_count": 5,
   "metadata": {
    "ExecuteTime": {
     "end_time": "2020-05-07T15:58:04.787118Z",
     "start_time": "2020-05-07T15:58:01.612262Z"
    }
   },
   "outputs": [
    {
     "data": {
      "text/plain": [
       "tripduration                  0\n",
       "starttime                     0\n",
       "stoptime                      0\n",
       "start station id           2497\n",
       "start station name         2497\n",
       "start station latitude        0\n",
       "start station longitude       0\n",
       "end station id             2497\n",
       "end station name           2497\n",
       "end station latitude          0\n",
       "end station longitude         0\n",
       "bikeid                        0\n",
       "usertype                      0\n",
       "birth year                    0\n",
       "gender                        0\n",
       "dtype: int64"
      ]
     },
     "execution_count": 5,
     "metadata": {},
     "output_type": "execute_result"
    }
   ],
   "source": [
    "citibike_data.isnull().sum()"
   ]
  },
  {
   "cell_type": "markdown",
   "metadata": {},
   "source": [
    "Very few entries with null values, drop them."
   ]
  },
  {
   "cell_type": "code",
   "execution_count": 6,
   "metadata": {
    "ExecuteTime": {
     "end_time": "2020-05-07T15:58:12.981926Z",
     "start_time": "2020-05-07T15:58:04.789370Z"
    }
   },
   "outputs": [
    {
     "data": {
      "text/plain": [
       "tripduration               0\n",
       "starttime                  0\n",
       "stoptime                   0\n",
       "start station id           0\n",
       "start station name         0\n",
       "start station latitude     0\n",
       "start station longitude    0\n",
       "end station id             0\n",
       "end station name           0\n",
       "end station latitude       0\n",
       "end station longitude      0\n",
       "bikeid                     0\n",
       "usertype                   0\n",
       "birth year                 0\n",
       "gender                     0\n",
       "dtype: int64"
      ]
     },
     "execution_count": 6,
     "metadata": {},
     "output_type": "execute_result"
    }
   ],
   "source": [
    "citibike_data = citibike_data.dropna()\n",
    "citibike_data.isnull().sum()"
   ]
  },
  {
   "cell_type": "markdown",
   "metadata": {},
   "source": [
    "Start times are all within 2018 (stop time can be after 2018 since someone can have a bike rented into the new year)"
   ]
  },
  {
   "cell_type": "code",
   "execution_count": 7,
   "metadata": {
    "ExecuteTime": {
     "end_time": "2020-05-07T15:58:18.660359Z",
     "start_time": "2020-05-07T15:58:12.984022Z"
    }
   },
   "outputs": [
    {
     "name": "stdout",
     "output_type": "stream",
     "text": [
      "starttime min 2018-01-01 00:01:50.6500\n",
      "starttime min 2018-12-31 23:59:51.0850\n",
      "stoptime min 2018-01-01 00:05:07.4380\n",
      "stoptime max 2019-01-08 08:39:45.0180\n"
     ]
    }
   ],
   "source": [
    "print('starttime min', citibike_data['starttime'].min())\n",
    "print('starttime min', citibike_data['starttime'].max())\n",
    "print('stoptime min', citibike_data['stoptime'].min())\n",
    "print('stoptime max', citibike_data['stoptime'].max())"
   ]
  },
  {
   "cell_type": "markdown",
   "metadata": {
    "ExecuteTime": {
     "end_time": "2020-05-07T07:04:33.804313Z",
     "start_time": "2020-05-07T07:04:33.796603Z"
    }
   },
   "source": [
    "Check validity of columns station geo location / id / names"
   ]
  },
  {
   "cell_type": "code",
   "execution_count": 8,
   "metadata": {
    "ExecuteTime": {
     "end_time": "2020-05-07T15:58:22.126615Z",
     "start_time": "2020-05-07T15:58:18.664123Z"
    }
   },
   "outputs": [
    {
     "name": "stdout",
     "output_type": "stream",
     "text": [
      "id_unique 818\n",
      "id_name_unique 823\n"
     ]
    },
    {
     "data": {
      "text/html": [
       "<div>\n",
       "<style scoped>\n",
       "    .dataframe tbody tr th:only-of-type {\n",
       "        vertical-align: middle;\n",
       "    }\n",
       "\n",
       "    .dataframe tbody tr th {\n",
       "        vertical-align: top;\n",
       "    }\n",
       "\n",
       "    .dataframe thead th {\n",
       "        text-align: right;\n",
       "    }\n",
       "</style>\n",
       "<table border=\"1\" class=\"dataframe\">\n",
       "  <thead>\n",
       "    <tr style=\"text-align: right;\">\n",
       "      <th></th>\n",
       "      <th>start station id</th>\n",
       "      <th>start station name</th>\n",
       "    </tr>\n",
       "  </thead>\n",
       "  <tbody>\n",
       "    <tr>\n",
       "      <th>55483</th>\n",
       "      <td>253.0</td>\n",
       "      <td>W 13 St &amp; 5 Ave</td>\n",
       "    </tr>\n",
       "    <tr>\n",
       "      <th>868</th>\n",
       "      <td>253.0</td>\n",
       "      <td>W 13 St &amp; 5 Ave -moved to 5947.04</td>\n",
       "    </tr>\n",
       "    <tr>\n",
       "      <th>239827</th>\n",
       "      <td>433.0</td>\n",
       "      <td>E 13 St &amp; Avenue A</td>\n",
       "    </tr>\n",
       "    <tr>\n",
       "      <th>1</th>\n",
       "      <td>433.0</td>\n",
       "      <td>old - E 13 St &amp; Avenue A</td>\n",
       "    </tr>\n",
       "    <tr>\n",
       "      <th>545084</th>\n",
       "      <td>3040.0</td>\n",
       "      <td>GOW Tech Shop</td>\n",
       "    </tr>\n",
       "    <tr>\n",
       "      <th>986988</th>\n",
       "      <td>3040.0</td>\n",
       "      <td>Handlebar @ Gowanus</td>\n",
       "    </tr>\n",
       "    <tr>\n",
       "      <th>631153</th>\n",
       "      <td>3395.0</td>\n",
       "      <td>Henry St &amp; W 9 St [old]</td>\n",
       "    </tr>\n",
       "    <tr>\n",
       "      <th>640173</th>\n",
       "      <td>3395.0</td>\n",
       "      <td>Henry St &amp; W 9 St</td>\n",
       "    </tr>\n",
       "    <tr>\n",
       "      <th>976014</th>\n",
       "      <td>3669.0</td>\n",
       "      <td>Henry St &amp; W 9 St</td>\n",
       "    </tr>\n",
       "    <tr>\n",
       "      <th>1967</th>\n",
       "      <td>3669.0</td>\n",
       "      <td>Henry St &amp; W 9 St (OLD)</td>\n",
       "    </tr>\n",
       "  </tbody>\n",
       "</table>\n",
       "</div>"
      ],
      "text/plain": [
       "        start station id                 start station name\n",
       "55483              253.0                    W 13 St & 5 Ave\n",
       "868                253.0  W 13 St & 5 Ave -moved to 5947.04\n",
       "239827             433.0                 E 13 St & Avenue A\n",
       "1                  433.0           old - E 13 St & Avenue A\n",
       "545084            3040.0                      GOW Tech Shop\n",
       "986988            3040.0                Handlebar @ Gowanus\n",
       "631153            3395.0            Henry St & W 9 St [old]\n",
       "640173            3395.0                  Henry St & W 9 St\n",
       "976014            3669.0                  Henry St & W 9 St\n",
       "1967              3669.0            Henry St & W 9 St (OLD)"
      ]
     },
     "execution_count": 8,
     "metadata": {},
     "output_type": "execute_result"
    }
   ],
   "source": [
    "id_unique = len(citibike_data['start station id'].unique())\n",
    "id_name_unique = len(citibike_data[['start station id', 'start station name']].drop_duplicates())\n",
    "\n",
    "print('id_unique', id_unique)\n",
    "print('id_name_unique', id_name_unique)\n",
    "\n",
    "duplicate_free = citibike_data[['start station id', 'start station name']].drop_duplicates()\n",
    "duplicate_ids = list(duplicate_free[duplicate_free.duplicated(['start station id'])]['start station id'])\n",
    "\n",
    "duplicate_free[duplicate_free['start station id'].isin(duplicate_ids)].sort_values('start station id')"
   ]
  },
  {
   "cell_type": "code",
   "execution_count": 9,
   "metadata": {
    "ExecuteTime": {
     "end_time": "2020-05-07T15:58:26.099931Z",
     "start_time": "2020-05-07T15:58:22.129551Z"
    }
   },
   "outputs": [
    {
     "name": "stdout",
     "output_type": "stream",
     "text": [
      "id_unique 850\n",
      "id_name_unique 855\n"
     ]
    },
    {
     "data": {
      "text/html": [
       "<div>\n",
       "<style scoped>\n",
       "    .dataframe tbody tr th:only-of-type {\n",
       "        vertical-align: middle;\n",
       "    }\n",
       "\n",
       "    .dataframe tbody tr th {\n",
       "        vertical-align: top;\n",
       "    }\n",
       "\n",
       "    .dataframe thead th {\n",
       "        text-align: right;\n",
       "    }\n",
       "</style>\n",
       "<table border=\"1\" class=\"dataframe\">\n",
       "  <thead>\n",
       "    <tr style=\"text-align: right;\">\n",
       "      <th></th>\n",
       "      <th>end station id</th>\n",
       "      <th>end station name</th>\n",
       "    </tr>\n",
       "  </thead>\n",
       "  <tbody>\n",
       "    <tr>\n",
       "      <th>659</th>\n",
       "      <td>253.0</td>\n",
       "      <td>W 13 St &amp; 5 Ave</td>\n",
       "    </tr>\n",
       "    <tr>\n",
       "      <th>725</th>\n",
       "      <td>253.0</td>\n",
       "      <td>W 13 St &amp; 5 Ave -moved to 5947.04</td>\n",
       "    </tr>\n",
       "    <tr>\n",
       "      <th>1511</th>\n",
       "      <td>433.0</td>\n",
       "      <td>E 13 St &amp; Avenue A</td>\n",
       "    </tr>\n",
       "    <tr>\n",
       "      <th>400</th>\n",
       "      <td>433.0</td>\n",
       "      <td>old - E 13 St &amp; Avenue A</td>\n",
       "    </tr>\n",
       "    <tr>\n",
       "      <th>98589</th>\n",
       "      <td>3040.0</td>\n",
       "      <td>GOW Tech Shop</td>\n",
       "    </tr>\n",
       "    <tr>\n",
       "      <th>1646475</th>\n",
       "      <td>3040.0</td>\n",
       "      <td>Handlebar @ Gowanus</td>\n",
       "    </tr>\n",
       "    <tr>\n",
       "      <th>71447</th>\n",
       "      <td>3395.0</td>\n",
       "      <td>Henry St &amp; W 9 St [old]</td>\n",
       "    </tr>\n",
       "    <tr>\n",
       "      <th>650960</th>\n",
       "      <td>3395.0</td>\n",
       "      <td>Henry St &amp; W 9 St</td>\n",
       "    </tr>\n",
       "    <tr>\n",
       "      <th>22728</th>\n",
       "      <td>3669.0</td>\n",
       "      <td>Henry St &amp; W 9 St</td>\n",
       "    </tr>\n",
       "    <tr>\n",
       "      <th>9285</th>\n",
       "      <td>3669.0</td>\n",
       "      <td>Henry St &amp; W 9 St (OLD)</td>\n",
       "    </tr>\n",
       "  </tbody>\n",
       "</table>\n",
       "</div>"
      ],
      "text/plain": [
       "         end station id                   end station name\n",
       "659               253.0                    W 13 St & 5 Ave\n",
       "725               253.0  W 13 St & 5 Ave -moved to 5947.04\n",
       "1511              433.0                 E 13 St & Avenue A\n",
       "400               433.0           old - E 13 St & Avenue A\n",
       "98589            3040.0                      GOW Tech Shop\n",
       "1646475          3040.0                Handlebar @ Gowanus\n",
       "71447            3395.0            Henry St & W 9 St [old]\n",
       "650960           3395.0                  Henry St & W 9 St\n",
       "22728            3669.0                  Henry St & W 9 St\n",
       "9285             3669.0            Henry St & W 9 St (OLD)"
      ]
     },
     "execution_count": 9,
     "metadata": {},
     "output_type": "execute_result"
    }
   ],
   "source": [
    "id_unique = len(citibike_data['end station id'].unique())\n",
    "id_name_unique = len(citibike_data[['end station id', 'end station name']].drop_duplicates())\n",
    "\n",
    "print('id_unique', id_unique)\n",
    "print('id_name_unique', id_name_unique)\n",
    "\n",
    "duplicate_free = citibike_data[['end station id', 'end station name']].drop_duplicates()\n",
    "duplicate_ids = list(duplicate_free[duplicate_free.duplicated(['end station id'])]['end station id'])\n",
    "\n",
    "duplicate_free[duplicate_free['end station id'].isin(duplicate_ids)].sort_values('end station id')"
   ]
  },
  {
   "cell_type": "code",
   "execution_count": 10,
   "metadata": {
    "ExecuteTime": {
     "end_time": "2020-05-07T15:58:27.493719Z",
     "start_time": "2020-05-07T15:58:26.102185Z"
    }
   },
   "outputs": [
    {
     "name": "stdout",
     "output_type": "stream",
     "text": [
      "id_unique 850\n",
      "id_longitude_unique 851\n"
     ]
    },
    {
     "data": {
      "text/html": [
       "<div>\n",
       "<style scoped>\n",
       "    .dataframe tbody tr th:only-of-type {\n",
       "        vertical-align: middle;\n",
       "    }\n",
       "\n",
       "    .dataframe tbody tr th {\n",
       "        vertical-align: top;\n",
       "    }\n",
       "\n",
       "    .dataframe thead th {\n",
       "        text-align: right;\n",
       "    }\n",
       "</style>\n",
       "<table border=\"1\" class=\"dataframe\">\n",
       "  <thead>\n",
       "    <tr style=\"text-align: right;\">\n",
       "      <th></th>\n",
       "      <th>end station id</th>\n",
       "      <th>end station longitude</th>\n",
       "    </tr>\n",
       "  </thead>\n",
       "  <tbody>\n",
       "    <tr>\n",
       "      <th>231</th>\n",
       "      <td>530.0</td>\n",
       "      <td>-73.990541</td>\n",
       "    </tr>\n",
       "    <tr>\n",
       "      <th>99</th>\n",
       "      <td>530.0</td>\n",
       "      <td>-73.990460</td>\n",
       "    </tr>\n",
       "  </tbody>\n",
       "</table>\n",
       "</div>"
      ],
      "text/plain": [
       "     end station id  end station longitude\n",
       "231           530.0             -73.990541\n",
       "99            530.0             -73.990460"
      ]
     },
     "execution_count": 10,
     "metadata": {},
     "output_type": "execute_result"
    }
   ],
   "source": [
    "id_unique = len(citibike_data['end station id'].unique())\n",
    "id_longitude_unique = len(citibike_data[['end station id', 'end station longitude']].drop_duplicates())\n",
    "\n",
    "print('id_unique', id_unique)\n",
    "print('id_longitude_unique', id_longitude_unique)\n",
    "\n",
    "duplicate_free = citibike_data[['end station id', 'end station longitude']].drop_duplicates()\n",
    "duplicate_ids = list(duplicate_free[duplicate_free.duplicated(['end station id'])]['end station id'])\n",
    "\n",
    "duplicate_free[duplicate_free['end station id'].isin(duplicate_ids)].sort_values('end station id')"
   ]
  },
  {
   "cell_type": "code",
   "execution_count": 11,
   "metadata": {
    "ExecuteTime": {
     "end_time": "2020-05-07T15:58:28.805505Z",
     "start_time": "2020-05-07T15:58:27.495528Z"
    }
   },
   "outputs": [
    {
     "name": "stdout",
     "output_type": "stream",
     "text": [
      "id_unique 818\n",
      "id_longitude_unique 819\n"
     ]
    },
    {
     "data": {
      "text/html": [
       "<div>\n",
       "<style scoped>\n",
       "    .dataframe tbody tr th:only-of-type {\n",
       "        vertical-align: middle;\n",
       "    }\n",
       "\n",
       "    .dataframe tbody tr th {\n",
       "        vertical-align: top;\n",
       "    }\n",
       "\n",
       "    .dataframe thead th {\n",
       "        text-align: right;\n",
       "    }\n",
       "</style>\n",
       "<table border=\"1\" class=\"dataframe\">\n",
       "  <thead>\n",
       "    <tr style=\"text-align: right;\">\n",
       "      <th></th>\n",
       "      <th>start station id</th>\n",
       "      <th>start station longitude</th>\n",
       "    </tr>\n",
       "  </thead>\n",
       "  <tbody>\n",
       "    <tr>\n",
       "      <th>425248</th>\n",
       "      <td>530.0</td>\n",
       "      <td>-73.990541</td>\n",
       "    </tr>\n",
       "    <tr>\n",
       "      <th>306</th>\n",
       "      <td>530.0</td>\n",
       "      <td>-73.990460</td>\n",
       "    </tr>\n",
       "  </tbody>\n",
       "</table>\n",
       "</div>"
      ],
      "text/plain": [
       "        start station id  start station longitude\n",
       "425248             530.0               -73.990541\n",
       "306                530.0               -73.990460"
      ]
     },
     "execution_count": 11,
     "metadata": {},
     "output_type": "execute_result"
    }
   ],
   "source": [
    "id_unique = len(citibike_data['start station id'].unique())\n",
    "id_longitude_unique = len(citibike_data[['start station id', 'start station longitude']].drop_duplicates())\n",
    "\n",
    "print('id_unique', id_unique)\n",
    "print('id_longitude_unique', id_longitude_unique)\n",
    "\n",
    "duplicate_free = citibike_data[['start station id', 'start station longitude']].drop_duplicates()\n",
    "duplicate_ids = list(duplicate_free[duplicate_free.duplicated(['start station id'])]['start station id'])\n",
    "\n",
    "duplicate_free[duplicate_free['start station id'].isin(duplicate_ids)].sort_values('start station id')"
   ]
  },
  {
   "cell_type": "code",
   "execution_count": 12,
   "metadata": {
    "ExecuteTime": {
     "end_time": "2020-05-07T15:58:30.011297Z",
     "start_time": "2020-05-07T15:58:28.807690Z"
    }
   },
   "outputs": [
    {
     "name": "stdout",
     "output_type": "stream",
     "text": [
      "id_unique 818\n",
      "id_latitude_unique 819\n"
     ]
    },
    {
     "data": {
      "text/html": [
       "<div>\n",
       "<style scoped>\n",
       "    .dataframe tbody tr th:only-of-type {\n",
       "        vertical-align: middle;\n",
       "    }\n",
       "\n",
       "    .dataframe tbody tr th {\n",
       "        vertical-align: top;\n",
       "    }\n",
       "\n",
       "    .dataframe thead th {\n",
       "        text-align: right;\n",
       "    }\n",
       "</style>\n",
       "<table border=\"1\" class=\"dataframe\">\n",
       "  <thead>\n",
       "    <tr style=\"text-align: right;\">\n",
       "      <th></th>\n",
       "      <th>start station id</th>\n",
       "      <th>start station latitude</th>\n",
       "    </tr>\n",
       "  </thead>\n",
       "  <tbody>\n",
       "    <tr>\n",
       "      <th>425248</th>\n",
       "      <td>530.0</td>\n",
       "      <td>40.771522</td>\n",
       "    </tr>\n",
       "    <tr>\n",
       "      <th>306</th>\n",
       "      <td>530.0</td>\n",
       "      <td>40.771497</td>\n",
       "    </tr>\n",
       "  </tbody>\n",
       "</table>\n",
       "</div>"
      ],
      "text/plain": [
       "        start station id  start station latitude\n",
       "425248             530.0               40.771522\n",
       "306                530.0               40.771497"
      ]
     },
     "execution_count": 12,
     "metadata": {},
     "output_type": "execute_result"
    }
   ],
   "source": [
    "id_unique = len(citibike_data['start station id'].unique())\n",
    "id_latitude_unique = len(citibike_data[['start station id', 'start station latitude']].drop_duplicates())\n",
    "\n",
    "print('id_unique', id_unique)\n",
    "print('id_latitude_unique', id_latitude_unique)\n",
    "\n",
    "duplicate_free = citibike_data[['start station id', 'start station latitude']].drop_duplicates()\n",
    "duplicate_ids = list(duplicate_free[duplicate_free.duplicated(['start station id'])]['start station id'])\n",
    "\n",
    "duplicate_free[duplicate_free['start station id'].isin(duplicate_ids)].sort_values('start station id')"
   ]
  },
  {
   "cell_type": "code",
   "execution_count": 13,
   "metadata": {
    "ExecuteTime": {
     "end_time": "2020-05-07T15:58:31.462493Z",
     "start_time": "2020-05-07T15:58:30.013684Z"
    }
   },
   "outputs": [
    {
     "name": "stdout",
     "output_type": "stream",
     "text": [
      "id_unique 850\n",
      "id_latitude_unique 851\n"
     ]
    },
    {
     "data": {
      "text/html": [
       "<div>\n",
       "<style scoped>\n",
       "    .dataframe tbody tr th:only-of-type {\n",
       "        vertical-align: middle;\n",
       "    }\n",
       "\n",
       "    .dataframe tbody tr th {\n",
       "        vertical-align: top;\n",
       "    }\n",
       "\n",
       "    .dataframe thead th {\n",
       "        text-align: right;\n",
       "    }\n",
       "</style>\n",
       "<table border=\"1\" class=\"dataframe\">\n",
       "  <thead>\n",
       "    <tr style=\"text-align: right;\">\n",
       "      <th></th>\n",
       "      <th>end station id</th>\n",
       "      <th>end station latitude</th>\n",
       "    </tr>\n",
       "  </thead>\n",
       "  <tbody>\n",
       "    <tr>\n",
       "      <th>231</th>\n",
       "      <td>530.0</td>\n",
       "      <td>40.771522</td>\n",
       "    </tr>\n",
       "    <tr>\n",
       "      <th>99</th>\n",
       "      <td>530.0</td>\n",
       "      <td>40.771497</td>\n",
       "    </tr>\n",
       "  </tbody>\n",
       "</table>\n",
       "</div>"
      ],
      "text/plain": [
       "     end station id  end station latitude\n",
       "231           530.0             40.771522\n",
       "99            530.0             40.771497"
      ]
     },
     "execution_count": 13,
     "metadata": {},
     "output_type": "execute_result"
    }
   ],
   "source": [
    "id_unique = len(citibike_data['end station id'].unique())\n",
    "id_latitude_unique = len(citibike_data[['end station id', 'end station latitude']].drop_duplicates())\n",
    "\n",
    "print('id_unique', id_unique)\n",
    "print('id_latitude_unique', id_latitude_unique)\n",
    "\n",
    "duplicate_free = citibike_data[['end station id', 'end station latitude']].drop_duplicates()\n",
    "duplicate_ids = list(duplicate_free[duplicate_free.duplicated(['end station id'])]['end station id'])\n",
    "\n",
    "duplicate_free[duplicate_free['end station id'].isin(duplicate_ids)].sort_values('end station id')"
   ]
  },
  {
   "cell_type": "code",
   "execution_count": 14,
   "metadata": {
    "ExecuteTime": {
     "end_time": "2020-05-07T15:58:34.948511Z",
     "start_time": "2020-05-07T15:58:31.464666Z"
    }
   },
   "outputs": [
    {
     "data": {
      "text/plain": [
       "array([[<matplotlib.axes._subplots.AxesSubplot object at 0x7f32c6cfb190>,\n",
       "        <matplotlib.axes._subplots.AxesSubplot object at 0x7f32c55ad6d0>],\n",
       "       [<matplotlib.axes._subplots.AxesSubplot object at 0x7f32c557c1d0>,\n",
       "        <matplotlib.axes._subplots.AxesSubplot object at 0x7f32c5530850>]],\n",
       "      dtype=object)"
      ]
     },
     "execution_count": 14,
     "metadata": {},
     "output_type": "execute_result"
    },
    {
     "data": {
      "image/png": "[encoded data removed]",
      "text/plain": [
       "<Figure size 2160x2160 with 4 Axes>"
      ]
     },
     "metadata": {
      "needs_background": "light"
     },
     "output_type": "display_data"
    }
   ],
   "source": [
    "citibike_data[['end station longitude', 'end station latitude', 'start station longitude', 'start station latitude']].hist(bins=75, figsize=(30, 30))"
   ]
  },
  {
   "cell_type": "markdown",
   "metadata": {},
   "source": [
    "Check trip duration consistency"
   ]
  },
  {
   "cell_type": "code",
   "execution_count": 15,
   "metadata": {
    "ExecuteTime": {
     "end_time": "2020-05-07T15:58:44.085872Z",
     "start_time": "2020-05-07T15:58:34.950510Z"
    }
   },
   "outputs": [
    {
     "name": "stderr",
     "output_type": "stream",
     "text": [
      "/usr/local/lib/python3.7/site-packages/ipykernel_launcher.py:4: SettingWithCopyWarning: \n",
      "A value is trying to be set on a copy of a slice from a DataFrame.\n",
      "Try using .loc[row_indexer,col_indexer] = value instead\n",
      "\n",
      "See the caveats in the documentation: https://pandas.pydata.org/pandas-docs/stable/user_guide/indexing.html#returning-a-view-versus-a-copy\n",
      "  after removing the cwd from sys.path.\n",
      "/usr/local/lib/python3.7/site-packages/ipykernel_launcher.py:5: SettingWithCopyWarning: \n",
      "A value is trying to be set on a copy of a slice from a DataFrame.\n",
      "Try using .loc[row_indexer,col_indexer] = value instead\n",
      "\n",
      "See the caveats in the documentation: https://pandas.pydata.org/pandas-docs/stable/user_guide/indexing.html#returning-a-view-versus-a-copy\n",
      "  \"\"\"\n",
      "/usr/local/lib/python3.7/site-packages/ipykernel_launcher.py:7: SettingWithCopyWarning: \n",
      "A value is trying to be set on a copy of a slice from a DataFrame.\n",
      "Try using .loc[row_indexer,col_indexer] = value instead\n",
      "\n",
      "See the caveats in the documentation: https://pandas.pydata.org/pandas-docs/stable/user_guide/indexing.html#returning-a-view-versus-a-copy\n",
      "  import sys\n"
     ]
    },
    {
     "data": {
      "text/html": [
       "<div>\n",
       "<style scoped>\n",
       "    .dataframe tbody tr th:only-of-type {\n",
       "        vertical-align: middle;\n",
       "    }\n",
       "\n",
       "    .dataframe tbody tr th {\n",
       "        vertical-align: top;\n",
       "    }\n",
       "\n",
       "    .dataframe thead th {\n",
       "        text-align: right;\n",
       "    }\n",
       "</style>\n",
       "<table border=\"1\" class=\"dataframe\">\n",
       "  <thead>\n",
       "    <tr style=\"text-align: right;\">\n",
       "      <th></th>\n",
       "      <th>tripduration</th>\n",
       "      <th>diff</th>\n",
       "    </tr>\n",
       "  </thead>\n",
       "  <tbody>\n",
       "    <tr>\n",
       "      <th>369257</th>\n",
       "      <td>11138807</td>\n",
       "      <td>11142407</td>\n",
       "    </tr>\n",
       "    <tr>\n",
       "      <th>476336</th>\n",
       "      <td>19510049</td>\n",
       "      <td>19513649</td>\n",
       "    </tr>\n",
       "    <tr>\n",
       "      <th>656565</th>\n",
       "      <td>8121483</td>\n",
       "      <td>8125083</td>\n",
       "    </tr>\n",
       "    <tr>\n",
       "      <th>687964</th>\n",
       "      <td>11699746</td>\n",
       "      <td>11703346</td>\n",
       "    </tr>\n",
       "    <tr>\n",
       "      <th>16293</th>\n",
       "      <td>3615030</td>\n",
       "      <td>3618630</td>\n",
       "    </tr>\n",
       "    <tr>\n",
       "      <th>...</th>\n",
       "      <td>...</td>\n",
       "      <td>...</td>\n",
       "    </tr>\n",
       "    <tr>\n",
       "      <th>183946</th>\n",
       "      <td>47057</td>\n",
       "      <td>43457</td>\n",
       "    </tr>\n",
       "    <tr>\n",
       "      <th>184395</th>\n",
       "      <td>10197</td>\n",
       "      <td>6597</td>\n",
       "    </tr>\n",
       "    <tr>\n",
       "      <th>185053</th>\n",
       "      <td>5978</td>\n",
       "      <td>2378</td>\n",
       "    </tr>\n",
       "    <tr>\n",
       "      <th>185192</th>\n",
       "      <td>5299</td>\n",
       "      <td>1699</td>\n",
       "    </tr>\n",
       "    <tr>\n",
       "      <th>185233</th>\n",
       "      <td>5091</td>\n",
       "      <td>1491</td>\n",
       "    </tr>\n",
       "  </tbody>\n",
       "</table>\n",
       "<p>151 rows × 2 columns</p>\n",
       "</div>"
      ],
      "text/plain": [
       "        tripduration      diff\n",
       "369257      11138807  11142407\n",
       "476336      19510049  19513649\n",
       "656565       8121483   8125083\n",
       "687964      11699746  11703346\n",
       "16293        3615030   3618630\n",
       "...              ...       ...\n",
       "183946         47057     43457\n",
       "184395         10197      6597\n",
       "185053          5978      2378\n",
       "185192          5299      1699\n",
       "185233          5091      1491\n",
       "\n",
       "[151 rows x 2 columns]"
      ]
     },
     "execution_count": 15,
     "metadata": {},
     "output_type": "execute_result"
    }
   ],
   "source": [
    "import numpy as np\n",
    "\n",
    "df = citibike_data[['tripduration']]\n",
    "citibike_data['starttime'] = pd.to_datetime(citibike_data['starttime'])\n",
    "citibike_data['stoptime'] = pd.to_datetime(citibike_data['stoptime'])\n",
    "\n",
    "df['diff'] = (citibike_data['stoptime'] - citibike_data['starttime']).dt.total_seconds().apply(np.floor).astype(int)\n",
    "\n",
    "df[df['diff'] != df['tripduration']]"
   ]
  },
  {
   "cell_type": "markdown",
   "metadata": {},
   "source": [
    "Fix the 151 false durations"
   ]
  },
  {
   "cell_type": "code",
   "execution_count": 16,
   "metadata": {
    "ExecuteTime": {
     "end_time": "2020-05-07T15:58:44.125684Z",
     "start_time": "2020-05-07T15:58:44.088016Z"
    }
   },
   "outputs": [
    {
     "name": "stderr",
     "output_type": "stream",
     "text": [
      "/usr/local/lib/python3.7/site-packages/ipykernel_launcher.py:1: SettingWithCopyWarning: \n",
      "A value is trying to be set on a copy of a slice from a DataFrame.\n",
      "Try using .loc[row_indexer,col_indexer] = value instead\n",
      "\n",
      "See the caveats in the documentation: https://pandas.pydata.org/pandas-docs/stable/user_guide/indexing.html#returning-a-view-versus-a-copy\n",
      "  \"\"\"Entry point for launching an IPython kernel.\n"
     ]
    }
   ],
   "source": [
    "citibike_data['tripduration'] = df['diff']\n",
    "df = None"
   ]
  },
  {
   "cell_type": "code",
   "execution_count": 17,
   "metadata": {
    "ExecuteTime": {
     "end_time": "2020-05-07T15:58:47.114359Z",
     "start_time": "2020-05-07T15:58:44.128041Z"
    }
   },
   "outputs": [
    {
     "name": "stdout",
     "output_type": "stream",
     "text": [
      "mean: 988.4768430605952\n",
      "median: 605.0\n",
      "min: 61\n",
      "max: 19513649\n",
      "tripduration .99 quantile: 3505.0\n",
      "tripduration .999 quantile: 15808.0\n",
      "tripduration .9999 quantile: 308081.74829975516\n",
      "tripduration .9999 quantile: 2261572.7847918198\n"
     ]
    },
    {
     "data": {
      "image/png": "[encoded data removed]",
      "text/plain": [
       "<Figure size 432x288 with 1 Axes>"
      ]
     },
     "metadata": {
      "needs_background": "light"
     },
     "output_type": "display_data"
    }
   ],
   "source": [
    "import matplotlib.pyplot as plt\n",
    "\n",
    "box_plot_df = citibike_data[['tripduration']]\n",
    "\n",
    "print('mean:', box_plot_df['tripduration'].mean())\n",
    "print('median:', box_plot_df['tripduration'].median())\n",
    "print('min:', box_plot_df['tripduration'].min())\n",
    "print('max:', box_plot_df['tripduration'].max())\n",
    "print('tripduration .99 quantile:', box_plot_df['tripduration'].quantile(0.99))\n",
    "print('tripduration .999 quantile:', box_plot_df['tripduration'].quantile(0.999))\n",
    "print('tripduration .9999 quantile:', box_plot_df['tripduration'].quantile(0.9999))\n",
    "print('tripduration .9999 quantile:', box_plot_df['tripduration'].quantile(0.99999))\n",
    "\n",
    "reduced_box_plot = box_plot_df[box_plot_df['tripduration'] < box_plot_df['tripduration'].quantile(0.99)]\n",
    "\n",
    "reduced_box_plot.plot(kind='box')\n",
    "plt.show()"
   ]
  },
  {
   "cell_type": "code",
   "execution_count": 18,
   "metadata": {
    "ExecuteTime": {
     "end_time": "2020-05-07T15:58:47.219875Z",
     "start_time": "2020-05-07T15:58:47.116379Z"
    },
    "scrolled": true
   },
   "outputs": [
    {
     "name": "stdout",
     "output_type": "stream",
     "text": [
      "668\n",
      "290\n",
      "138\n"
     ]
    },
    {
     "data": {
      "text/html": [
       "<div>\n",
       "<style scoped>\n",
       "    .dataframe tbody tr th:only-of-type {\n",
       "        vertical-align: middle;\n",
       "    }\n",
       "\n",
       "    .dataframe tbody tr th {\n",
       "        vertical-align: top;\n",
       "    }\n",
       "\n",
       "    .dataframe thead th {\n",
       "        text-align: right;\n",
       "    }\n",
       "</style>\n",
       "<table border=\"1\" class=\"dataframe\">\n",
       "  <thead>\n",
       "    <tr style=\"text-align: right;\">\n",
       "      <th></th>\n",
       "      <th>tripduration</th>\n",
       "      <th>starttime</th>\n",
       "      <th>stoptime</th>\n",
       "      <th>start station id</th>\n",
       "      <th>start station name</th>\n",
       "      <th>start station latitude</th>\n",
       "      <th>start station longitude</th>\n",
       "      <th>end station id</th>\n",
       "      <th>end station name</th>\n",
       "      <th>end station latitude</th>\n",
       "      <th>end station longitude</th>\n",
       "      <th>bikeid</th>\n",
       "      <th>usertype</th>\n",
       "      <th>birth year</th>\n",
       "      <th>gender</th>\n",
       "    </tr>\n",
       "  </thead>\n",
       "  <tbody>\n",
       "    <tr>\n",
       "      <th>31380</th>\n",
       "      <td>2696127</td>\n",
       "      <td>2018-01-01 09:57:32.016</td>\n",
       "      <td>2018-02-01 14:52:59.246</td>\n",
       "      <td>212.0</td>\n",
       "      <td>W 16 St &amp; The High Line</td>\n",
       "      <td>40.743349</td>\n",
       "      <td>-74.006818</td>\n",
       "      <td>3245.0</td>\n",
       "      <td>NYCBS DEPOT - DELANCEY</td>\n",
       "      <td>40.716444</td>\n",
       "      <td>-73.982331</td>\n",
       "      <td>29858</td>\n",
       "      <td>Subscriber</td>\n",
       "      <td>1975</td>\n",
       "      <td>1</td>\n",
       "    </tr>\n",
       "    <tr>\n",
       "      <th>32930</th>\n",
       "      <td>1819151</td>\n",
       "      <td>2018-01-27 13:14:19.220</td>\n",
       "      <td>2018-02-17 14:33:31.059</td>\n",
       "      <td>212.0</td>\n",
       "      <td>W 16 St &amp; The High Line</td>\n",
       "      <td>40.743349</td>\n",
       "      <td>-74.006818</td>\n",
       "      <td>3623.0</td>\n",
       "      <td>W 120 St &amp; Claremont Ave</td>\n",
       "      <td>40.810949</td>\n",
       "      <td>-73.963400</td>\n",
       "      <td>26770</td>\n",
       "      <td>Subscriber</td>\n",
       "      <td>1963</td>\n",
       "      <td>1</td>\n",
       "    </tr>\n",
       "    <tr>\n",
       "      <th>70386</th>\n",
       "      <td>4421929</td>\n",
       "      <td>2018-01-08 07:38:01.545</td>\n",
       "      <td>2018-02-28 11:56:51.485</td>\n",
       "      <td>270.0</td>\n",
       "      <td>Adelphi St &amp; Myrtle Ave</td>\n",
       "      <td>40.693083</td>\n",
       "      <td>-73.971789</td>\n",
       "      <td>3652.0</td>\n",
       "      <td>NYCBS Depot - 3AV</td>\n",
       "      <td>40.670133</td>\n",
       "      <td>-73.992308</td>\n",
       "      <td>17558</td>\n",
       "      <td>Subscriber</td>\n",
       "      <td>1983</td>\n",
       "      <td>2</td>\n",
       "    </tr>\n",
       "    <tr>\n",
       "      <th>369256</th>\n",
       "      <td>2592890</td>\n",
       "      <td>2018-01-27 15:36:40.983</td>\n",
       "      <td>2018-02-26 15:51:31.069</td>\n",
       "      <td>501.0</td>\n",
       "      <td>FDR Drive &amp; E 35 St</td>\n",
       "      <td>40.744219</td>\n",
       "      <td>-73.971212</td>\n",
       "      <td>481.0</td>\n",
       "      <td>S 3 St &amp; Bedford Ave</td>\n",
       "      <td>40.712605</td>\n",
       "      <td>-73.962644</td>\n",
       "      <td>31512</td>\n",
       "      <td>Customer</td>\n",
       "      <td>1969</td>\n",
       "      <td>0</td>\n",
       "    </tr>\n",
       "    <tr>\n",
       "      <th>369257</th>\n",
       "      <td>11142407</td>\n",
       "      <td>2018-01-27 15:37:18.019</td>\n",
       "      <td>2018-06-05 14:44:05.591</td>\n",
       "      <td>501.0</td>\n",
       "      <td>FDR Drive &amp; E 35 St</td>\n",
       "      <td>40.744219</td>\n",
       "      <td>-73.971212</td>\n",
       "      <td>3245.0</td>\n",
       "      <td>NYCBS DEPOT - DELANCEY</td>\n",
       "      <td>40.716444</td>\n",
       "      <td>-73.982331</td>\n",
       "      <td>15336</td>\n",
       "      <td>Customer</td>\n",
       "      <td>1969</td>\n",
       "      <td>0</td>\n",
       "    </tr>\n",
       "    <tr>\n",
       "      <th>...</th>\n",
       "      <td>...</td>\n",
       "      <td>...</td>\n",
       "      <td>...</td>\n",
       "      <td>...</td>\n",
       "      <td>...</td>\n",
       "      <td>...</td>\n",
       "      <td>...</td>\n",
       "      <td>...</td>\n",
       "      <td>...</td>\n",
       "      <td>...</td>\n",
       "      <td>...</td>\n",
       "      <td>...</td>\n",
       "      <td>...</td>\n",
       "      <td>...</td>\n",
       "      <td>...</td>\n",
       "    </tr>\n",
       "    <tr>\n",
       "      <th>551398</th>\n",
       "      <td>2138490</td>\n",
       "      <td>2018-12-14 14:38:14.917</td>\n",
       "      <td>2019-01-08 08:39:45.018</td>\n",
       "      <td>3472.0</td>\n",
       "      <td>W 15 St &amp; 10 Ave</td>\n",
       "      <td>40.742754</td>\n",
       "      <td>-74.007474</td>\n",
       "      <td>3472.0</td>\n",
       "      <td>W 15 St &amp; 10 Ave</td>\n",
       "      <td>40.742754</td>\n",
       "      <td>-74.007474</td>\n",
       "      <td>29832</td>\n",
       "      <td>Subscriber</td>\n",
       "      <td>1975</td>\n",
       "      <td>1</td>\n",
       "    </tr>\n",
       "    <tr>\n",
       "      <th>561145</th>\n",
       "      <td>960151</td>\n",
       "      <td>2018-12-14 17:34:53.499</td>\n",
       "      <td>2018-12-25 20:17:25.327</td>\n",
       "      <td>437.0</td>\n",
       "      <td>Macon St &amp; Nostrand Ave</td>\n",
       "      <td>40.680983</td>\n",
       "      <td>-73.950048</td>\n",
       "      <td>239.0</td>\n",
       "      <td>Willoughby St &amp; Fleet St</td>\n",
       "      <td>40.691966</td>\n",
       "      <td>-73.981302</td>\n",
       "      <td>26896</td>\n",
       "      <td>Customer</td>\n",
       "      <td>1969</td>\n",
       "      <td>0</td>\n",
       "    </tr>\n",
       "    <tr>\n",
       "      <th>848144</th>\n",
       "      <td>1011946</td>\n",
       "      <td>2018-12-23 22:19:47.615</td>\n",
       "      <td>2019-01-04 15:25:34.083</td>\n",
       "      <td>3637.0</td>\n",
       "      <td>Fulton St &amp; Waverly Ave</td>\n",
       "      <td>40.683239</td>\n",
       "      <td>-73.965996</td>\n",
       "      <td>364.0</td>\n",
       "      <td>Lafayette Ave &amp; Classon Ave</td>\n",
       "      <td>40.689004</td>\n",
       "      <td>-73.960239</td>\n",
       "      <td>35011</td>\n",
       "      <td>Customer</td>\n",
       "      <td>1999</td>\n",
       "      <td>1</td>\n",
       "    </tr>\n",
       "    <tr>\n",
       "      <th>859044</th>\n",
       "      <td>887474</td>\n",
       "      <td>2018-12-24 14:26:47.282</td>\n",
       "      <td>2019-01-03 20:58:02.065</td>\n",
       "      <td>377.0</td>\n",
       "      <td>6 Ave &amp; Canal St</td>\n",
       "      <td>40.722438</td>\n",
       "      <td>-74.005664</td>\n",
       "      <td>3432.0</td>\n",
       "      <td>NYCBS Depot - GOW</td>\n",
       "      <td>40.669060</td>\n",
       "      <td>-73.994637</td>\n",
       "      <td>34223</td>\n",
       "      <td>Customer</td>\n",
       "      <td>1996</td>\n",
       "      <td>1</td>\n",
       "    </tr>\n",
       "    <tr>\n",
       "      <th>889345</th>\n",
       "      <td>938637</td>\n",
       "      <td>2018-12-26 13:53:07.601</td>\n",
       "      <td>2019-01-06 10:37:05.201</td>\n",
       "      <td>3313.0</td>\n",
       "      <td>6 Ave &amp; 12 St</td>\n",
       "      <td>40.666318</td>\n",
       "      <td>-73.985462</td>\n",
       "      <td>3415.0</td>\n",
       "      <td>Prospect Pl &amp; 6 Ave</td>\n",
       "      <td>40.679331</td>\n",
       "      <td>-73.975195</td>\n",
       "      <td>21402</td>\n",
       "      <td>Subscriber</td>\n",
       "      <td>1945</td>\n",
       "      <td>1</td>\n",
       "    </tr>\n",
       "  </tbody>\n",
       "</table>\n",
       "<p>668 rows × 15 columns</p>\n",
       "</div>"
      ],
      "text/plain": [
       "        tripduration               starttime                stoptime  \\\n",
       "31380        2696127 2018-01-01 09:57:32.016 2018-02-01 14:52:59.246   \n",
       "32930        1819151 2018-01-27 13:14:19.220 2018-02-17 14:33:31.059   \n",
       "70386        4421929 2018-01-08 07:38:01.545 2018-02-28 11:56:51.485   \n",
       "369256       2592890 2018-01-27 15:36:40.983 2018-02-26 15:51:31.069   \n",
       "369257      11142407 2018-01-27 15:37:18.019 2018-06-05 14:44:05.591   \n",
       "...              ...                     ...                     ...   \n",
       "551398       2138490 2018-12-14 14:38:14.917 2019-01-08 08:39:45.018   \n",
       "561145        960151 2018-12-14 17:34:53.499 2018-12-25 20:17:25.327   \n",
       "848144       1011946 2018-12-23 22:19:47.615 2019-01-04 15:25:34.083   \n",
       "859044        887474 2018-12-24 14:26:47.282 2019-01-03 20:58:02.065   \n",
       "889345        938637 2018-12-26 13:53:07.601 2019-01-06 10:37:05.201   \n",
       "\n",
       "        start station id       start station name  start station latitude  \\\n",
       "31380              212.0  W 16 St & The High Line               40.743349   \n",
       "32930              212.0  W 16 St & The High Line               40.743349   \n",
       "70386              270.0  Adelphi St & Myrtle Ave               40.693083   \n",
       "369256             501.0      FDR Drive & E 35 St               40.744219   \n",
       "369257             501.0      FDR Drive & E 35 St               40.744219   \n",
       "...                  ...                      ...                     ...   \n",
       "551398            3472.0         W 15 St & 10 Ave               40.742754   \n",
       "561145             437.0  Macon St & Nostrand Ave               40.680983   \n",
       "848144            3637.0  Fulton St & Waverly Ave               40.683239   \n",
       "859044             377.0         6 Ave & Canal St               40.722438   \n",
       "889345            3313.0            6 Ave & 12 St               40.666318   \n",
       "\n",
       "        start station longitude  end station id             end station name  \\\n",
       "31380                -74.006818          3245.0       NYCBS DEPOT - DELANCEY   \n",
       "32930                -74.006818          3623.0     W 120 St & Claremont Ave   \n",
       "70386                -73.971789          3652.0            NYCBS Depot - 3AV   \n",
       "369256               -73.971212           481.0         S 3 St & Bedford Ave   \n",
       "369257               -73.971212          3245.0       NYCBS DEPOT - DELANCEY   \n",
       "...                         ...             ...                          ...   \n",
       "551398               -74.007474          3472.0             W 15 St & 10 Ave   \n",
       "561145               -73.950048           239.0     Willoughby St & Fleet St   \n",
       "848144               -73.965996           364.0  Lafayette Ave & Classon Ave   \n",
       "859044               -74.005664          3432.0            NYCBS Depot - GOW   \n",
       "889345               -73.985462          3415.0          Prospect Pl & 6 Ave   \n",
       "\n",
       "        end station latitude  end station longitude  bikeid    usertype  \\\n",
       "31380              40.716444             -73.982331   29858  Subscriber   \n",
       "32930              40.810949             -73.963400   26770  Subscriber   \n",
       "70386              40.670133             -73.992308   17558  Subscriber   \n",
       "369256             40.712605             -73.962644   31512    Customer   \n",
       "369257             40.716444             -73.982331   15336    Customer   \n",
       "...                      ...                    ...     ...         ...   \n",
       "551398             40.742754             -74.007474   29832  Subscriber   \n",
       "561145             40.691966             -73.981302   26896    Customer   \n",
       "848144             40.689004             -73.960239   35011    Customer   \n",
       "859044             40.669060             -73.994637   34223    Customer   \n",
       "889345             40.679331             -73.975195   21402  Subscriber   \n",
       "\n",
       "        birth year  gender  \n",
       "31380         1975       1  \n",
       "32930         1963       1  \n",
       "70386         1983       2  \n",
       "369256        1969       0  \n",
       "369257        1969       0  \n",
       "...            ...     ...  \n",
       "551398        1975       1  \n",
       "561145        1969       0  \n",
       "848144        1999       1  \n",
       "859044        1996       1  \n",
       "889345        1945       1  \n",
       "\n",
       "[668 rows x 15 columns]"
      ]
     },
     "execution_count": 18,
     "metadata": {},
     "output_type": "execute_result"
    }
   ],
   "source": [
    "print(len(box_plot_df[box_plot_df['tripduration'] > 10*24*60*60]))\n",
    "print(len(box_plot_df[box_plot_df['tripduration'] > 20*24*60*60]))\n",
    "print(len(box_plot_df[box_plot_df['tripduration'] > 30*24*60*60]))\n",
    "\n",
    "citibike_data[citibike_data['tripduration'] > 10*24*60*60]"
   ]
  },
  {
   "cell_type": "code",
   "execution_count": 19,
   "metadata": {
    "ExecuteTime": {
     "end_time": "2020-05-07T15:58:47.228402Z",
     "start_time": "2020-05-07T15:58:47.222464Z"
    }
   },
   "outputs": [],
   "source": [
    "box_plot_df = None\n",
    "reduced_box_plot = None"
   ]
  },
  {
   "cell_type": "markdown",
   "metadata": {},
   "source": [
    "Start & stop time analysis\n",
    "Add new feature weekday"
   ]
  },
  {
   "cell_type": "code",
   "execution_count": 20,
   "metadata": {
    "ExecuteTime": {
     "end_time": "2020-05-07T15:58:57.610770Z",
     "start_time": "2020-05-07T15:58:47.230573Z"
    }
   },
   "outputs": [
    {
     "name": "stderr",
     "output_type": "stream",
     "text": [
      "/usr/local/lib/python3.7/site-packages/ipykernel_launcher.py:1: SettingWithCopyWarning: \n",
      "A value is trying to be set on a copy of a slice from a DataFrame.\n",
      "Try using .loc[row_indexer,col_indexer] = value instead\n",
      "\n",
      "See the caveats in the documentation: https://pandas.pydata.org/pandas-docs/stable/user_guide/indexing.html#returning-a-view-versus-a-copy\n",
      "  \"\"\"Entry point for launching an IPython kernel.\n",
      "/usr/local/lib/python3.7/site-packages/ipykernel_launcher.py:2: SettingWithCopyWarning: \n",
      "A value is trying to be set on a copy of a slice from a DataFrame.\n",
      "Try using .loc[row_indexer,col_indexer] = value instead\n",
      "\n",
      "See the caveats in the documentation: https://pandas.pydata.org/pandas-docs/stable/user_guide/indexing.html#returning-a-view-versus-a-copy\n",
      "  \n"
     ]
    }
   ],
   "source": [
    "citibike_data['start_weekday'] = citibike_data['starttime'].dt.day_name()\n",
    "citibike_data['stop_weekday'] = citibike_data['stoptime'].dt.day_name()"
   ]
  },
  {
   "cell_type": "code",
   "execution_count": 21,
   "metadata": {
    "ExecuteTime": {
     "end_time": "2020-05-07T15:58:59.585787Z",
     "start_time": "2020-05-07T15:58:57.612729Z"
    }
   },
   "outputs": [
    {
     "data": {
      "text/plain": [
       "<matplotlib.axes._subplots.AxesSubplot at 0x7f310a9d8410>"
      ]
     },
     "execution_count": 21,
     "metadata": {},
     "output_type": "execute_result"
    },
    {
     "data": {
      "image/png": "[encoded data removed]",
      "text/plain": [
       "<Figure size 432x288 with 1 Axes>"
      ]
     },
     "metadata": {
      "needs_background": "light"
     },
     "output_type": "display_data"
    }
   ],
   "source": [
    "weekdays = ['Monday', 'Tuesday', 'Wednesday', 'Thursday', 'Friday', 'Saturday', 'Sunday']\n",
    "citibike_data['start_weekday'].value_counts()[weekdays].plot(kind=\"bar\")"
   ]
  },
  {
   "cell_type": "code",
   "execution_count": 22,
   "metadata": {
    "ExecuteTime": {
     "end_time": "2020-05-07T15:59:01.616766Z",
     "start_time": "2020-05-07T15:58:59.587606Z"
    }
   },
   "outputs": [
    {
     "data": {
      "text/plain": [
       "<matplotlib.axes._subplots.AxesSubplot at 0x7f310a9d7310>"
      ]
     },
     "execution_count": 22,
     "metadata": {},
     "output_type": "execute_result"
    },
    {
     "data": {
      "image/png": "[encoded data removed]",
      "text/plain": [
       "<Figure size 432x288 with 1 Axes>"
      ]
     },
     "metadata": {
      "needs_background": "light"
     },
     "output_type": "display_data"
    }
   ],
   "source": [
    "citibike_data['stop_weekday'].value_counts()[weekdays].plot(kind=\"bar\")"
   ]
  },
  {
   "cell_type": "code",
   "execution_count": 23,
   "metadata": {
    "ExecuteTime": {
     "end_time": "2020-05-07T15:59:05.073538Z",
     "start_time": "2020-05-07T15:59:01.620892Z"
    }
   },
   "outputs": [
    {
     "name": "stderr",
     "output_type": "stream",
     "text": [
      "/usr/local/lib/python3.7/site-packages/ipykernel_launcher.py:1: SettingWithCopyWarning: \n",
      "A value is trying to be set on a copy of a slice from a DataFrame.\n",
      "Try using .loc[row_indexer,col_indexer] = value instead\n",
      "\n",
      "See the caveats in the documentation: https://pandas.pydata.org/pandas-docs/stable/user_guide/indexing.html#returning-a-view-versus-a-copy\n",
      "  \"\"\"Entry point for launching an IPython kernel.\n",
      "/usr/local/lib/python3.7/site-packages/ipykernel_launcher.py:2: SettingWithCopyWarning: \n",
      "A value is trying to be set on a copy of a slice from a DataFrame.\n",
      "Try using .loc[row_indexer,col_indexer] = value instead\n",
      "\n",
      "See the caveats in the documentation: https://pandas.pydata.org/pandas-docs/stable/user_guide/indexing.html#returning-a-view-versus-a-copy\n",
      "  \n"
     ]
    }
   ],
   "source": [
    "citibike_data['start_hour'] = citibike_data['starttime'].dt.hour\n",
    "citibike_data['stop_hour'] = citibike_data['stoptime'].dt.hour"
   ]
  },
  {
   "cell_type": "markdown",
   "metadata": {},
   "source": [
    "Format / remove outliers tripdurations"
   ]
  },
  {
   "cell_type": "code",
   "execution_count": 24,
   "metadata": {
    "ExecuteTime": {
     "end_time": "2020-05-07T15:59:10.984016Z",
     "start_time": "2020-05-07T15:59:05.075774Z"
    }
   },
   "outputs": [
    {
     "name": "stdout",
     "output_type": "stream",
     "text": [
      "usertype\n",
      "Customer      484\n",
      "Subscriber    184\n",
      "dtype: int64\n"
     ]
    },
    {
     "data": {
      "text/plain": [
       "<matplotlib.legend.Legend at 0x7f32c4bbca10>"
      ]
     },
     "execution_count": 24,
     "metadata": {},
     "output_type": "execute_result"
    },
    {
     "data": {
      "image/png": "[encoded data removed]",
      "text/plain": [
       "<Figure size 360x360 with 1 Axes>"
      ]
     },
     "metadata": {},
     "output_type": "display_data"
    }
   ],
   "source": [
    "trips_larger_10_days = citibike_data[citibike_data['tripduration'] >= 10*24*60*60]\n",
    "print(trips_larger_10_days.groupby(['usertype']).size())\n",
    "\n",
    "fig, ax = plt.subplots()\n",
    "bin_percent = pd.DataFrame(trips_larger_10_days['usertype'].value_counts(normalize=True) * 100)\n",
    "bin_percent.plot.pie(y='usertype', labels=['',''], figsize=(5, 5), autopct='%1.1f%%', ax=ax)\n",
    "ax.legend(['Subscriber', 'Customer'])"
   ]
  },
  {
   "cell_type": "code",
   "execution_count": 25,
   "metadata": {
    "ExecuteTime": {
     "end_time": "2020-05-07T15:59:11.104756Z",
     "start_time": "2020-05-07T15:59:10.986025Z"
    }
   },
   "outputs": [
    {
     "name": "stdout",
     "output_type": "stream",
     "text": [
      "usertype\n",
      "Customer      213\n",
      "Subscriber     77\n",
      "dtype: int64\n"
     ]
    },
    {
     "data": {
      "text/plain": [
       "<matplotlib.legend.Legend at 0x7f3267392c10>"
      ]
     },
     "execution_count": 25,
     "metadata": {},
     "output_type": "execute_result"
    },
    {
     "data": {
      "image/png": "[encoded data removed]",
      "text/plain": [
       "<Figure size 360x360 with 1 Axes>"
      ]
     },
     "metadata": {},
     "output_type": "display_data"
    }
   ],
   "source": [
    "trips_larger_20_days = citibike_data[citibike_data['tripduration'] >= 20*24*60*60]\n",
    "print(trips_larger_20_days.groupby(['usertype']).size())\n",
    "\n",
    "fig, ax = plt.subplots()\n",
    "bin_percent = pd.DataFrame(trips_larger_20_days['usertype'].value_counts(normalize=True) * 100)\n",
    "bin_percent.plot.pie(y='usertype', labels=['',''], figsize=(5, 5), autopct='%1.1f%%', ax=ax)\n",
    "ax.legend(['Subscriber', 'Customer'])"
   ]
  },
  {
   "cell_type": "code",
   "execution_count": 26,
   "metadata": {
    "ExecuteTime": {
     "end_time": "2020-05-07T15:59:11.223678Z",
     "start_time": "2020-05-07T15:59:11.106513Z"
    }
   },
   "outputs": [
    {
     "name": "stdout",
     "output_type": "stream",
     "text": [
      "usertype\n",
      "Customer      108\n",
      "Subscriber     30\n",
      "dtype: int64\n"
     ]
    },
    {
     "data": {
      "text/plain": [
       "<matplotlib.legend.Legend at 0x7f3267370850>"
      ]
     },
     "execution_count": 26,
     "metadata": {},
     "output_type": "execute_result"
    },
    {
     "data": {
      "image/png": "[encoded data removed]",
      "text/plain": [
       "<Figure size 360x360 with 1 Axes>"
      ]
     },
     "metadata": {},
     "output_type": "display_data"
    }
   ],
   "source": [
    "trips_larger_30_days = citibike_data[citibike_data['tripduration'] >= 30*24*60*60]\n",
    "print(trips_larger_30_days.groupby(['usertype']).size())\n",
    "\n",
    "fig, ax = plt.subplots()\n",
    "bin_percent = pd.DataFrame(trips_larger_30_days['usertype'].value_counts(normalize=True) * 100)\n",
    "bin_percent.plot.pie(y='usertype', labels=['',''], figsize=(5, 5), autopct='%1.1f%%', ax=ax)\n",
    "ax.legend(['Subscriber', 'Customer'])"
   ]
  },
  {
   "cell_type": "markdown",
   "metadata": {},
   "source": [
    "Analyze users"
   ]
  },
  {
   "cell_type": "code",
   "execution_count": 29,
   "metadata": {
    "ExecuteTime": {
     "end_time": "2020-05-07T15:59:13.669722Z",
     "start_time": "2020-05-07T15:59:11.246991Z"
    }
   },
   "outputs": [
    {
     "name": "stdout",
     "output_type": "stream",
     "text": [
      "usertype\n",
      "Customer       1932472\n",
      "Subscriber    15613370\n",
      "dtype: int64\n"
     ]
    },
    {
     "data": {
      "text/plain": [
       "<matplotlib.legend.Legend at 0x7f3267134490>"
      ]
     },
     "execution_count": 29,
     "metadata": {},
     "output_type": "execute_result"
    },
    {
     "data": {
      "image/png": "[encoded data removed]",
      "text/plain": [
       "<Figure size 360x360 with 1 Axes>"
      ]
     },
     "metadata": {},
     "output_type": "display_data"
    }
   ],
   "source": [
    "print(citibike_data.groupby(['usertype']).size())\n",
    "\n",
    "fig, ax = plt.subplots()\n",
    "bin_percent = pd.DataFrame(citibike_data['usertype'].value_counts(normalize=True) * 100)\n",
    "bin_percent.plot.pie(y='usertype', labels=['',''], figsize=(5, 5), autopct='%1.1f%%', ax=ax)\n",
    "ax.legend(['Subscriber', 'Customer'])"
   ]
  },
  {
   "cell_type": "code",
   "execution_count": 30,
   "metadata": {
    "ExecuteTime": {
     "end_time": "2020-05-07T15:59:14.191855Z",
     "start_time": "2020-05-07T15:59:13.671666Z"
    }
   },
   "outputs": [
    {
     "name": "stdout",
     "output_type": "stream",
     "text": [
      "gender\n",
      "0     1484282\n",
      "1    11969615\n",
      "2     4091945\n",
      "dtype: int64\n"
     ]
    },
    {
     "data": {
      "text/plain": [
       "<matplotlib.legend.Legend at 0x7f32673bca10>"
      ]
     },
     "execution_count": 30,
     "metadata": {},
     "output_type": "execute_result"
    },
    {
     "data": {
      "image/png": "[encoded data removed]",
      "text/plain": [
       "<Figure size 360x360 with 1 Axes>"
      ]
     },
     "metadata": {},
     "output_type": "display_data"
    }
   ],
   "source": [
    "print(citibike_data.groupby(['gender']).size())\n",
    "\n",
    "fig, ax = plt.subplots()\n",
    "bin_percent = pd.DataFrame(citibike_data['gender'].value_counts(normalize=True) * 100)\n",
    "bin_percent.plot.pie(y='gender', labels=['','',''], figsize=(5, 5), autopct='%1.1f%%', ax=ax)\n",
    "ax.legend(['male', 'female', 'unknown'])"
   ]
  },
  {
   "cell_type": "code",
   "execution_count": 31,
   "metadata": {
    "ExecuteTime": {
     "end_time": "2020-05-07T15:59:14.817668Z",
     "start_time": "2020-05-07T15:59:14.193975Z"
    }
   },
   "outputs": [
    {
     "name": "stdout",
     "output_type": "stream",
     "text": [
      "usertype\n",
      "Customer      1179445\n",
      "Subscriber     304837\n",
      "dtype: int64\n"
     ]
    },
    {
     "data": {
      "text/plain": [
       "<matplotlib.legend.Legend at 0x7f326700fb50>"
      ]
     },
     "execution_count": 31,
     "metadata": {},
     "output_type": "execute_result"
    },
    {
     "data": {
      "image/png": "[encoded data removed]",
      "text/plain": [
       "<Figure size 360x360 with 1 Axes>"
      ]
     },
     "metadata": {},
     "output_type": "display_data"
    }
   ],
   "source": [
    "gender_0 = citibike_data[citibike_data['gender'] == 0]\n",
    "print(gender_0.groupby(['usertype']).size())\n",
    "\n",
    "fig, ax = plt.subplots()\n",
    "bin_percent = pd.DataFrame(gender_0['usertype'].value_counts(normalize=True) * 100)\n",
    "bin_percent.plot.pie(y='usertype', labels=['',''], figsize=(5, 5), autopct='%1.1f%%', ax=ax)\n",
    "ax.legend(['Subscriber', 'Customer'])"
   ]
  },
  {
   "cell_type": "code",
   "execution_count": 32,
   "metadata": {
    "ExecuteTime": {
     "end_time": "2020-05-07T15:59:19.164159Z",
     "start_time": "2020-05-07T15:59:14.819825Z"
    }
   },
   "outputs": [
    {
     "name": "stdout",
     "output_type": "stream",
     "text": [
      "usertype\n",
      "Customer        473411\n",
      "Subscriber    11496204\n",
      "dtype: int64\n"
     ]
    },
    {
     "data": {
      "text/plain": [
       "<matplotlib.legend.Legend at 0x7f32c52ab750>"
      ]
     },
     "execution_count": 32,
     "metadata": {},
     "output_type": "execute_result"
    },
    {
     "data": {
      "image/png": "[encoded data removed]",
      "text/plain": [
       "<Figure size 360x360 with 1 Axes>"
      ]
     },
     "metadata": {},
     "output_type": "display_data"
    }
   ],
   "source": [
    "gender_1 = citibike_data[citibike_data['gender'] == 1]\n",
    "print(gender_1.groupby(['usertype']).size())\n",
    "\n",
    "fig, ax = plt.subplots()\n",
    "bin_percent = pd.DataFrame(gender_1['usertype'].value_counts(normalize=True) * 100)\n",
    "bin_percent.plot.pie(y='usertype', labels=['',''], figsize=(5, 5), autopct='%1.1f%%', ax=ax)\n",
    "ax.legend(['Subscriber', 'Customer'])"
   ]
  },
  {
   "cell_type": "code",
   "execution_count": 33,
   "metadata": {
    "ExecuteTime": {
     "end_time": "2020-05-07T15:59:22.793271Z",
     "start_time": "2020-05-07T15:59:19.166457Z"
    }
   },
   "outputs": [
    {
     "name": "stdout",
     "output_type": "stream",
     "text": [
      "usertype\n",
      "Customer       279616\n",
      "Subscriber    3812329\n",
      "dtype: int64\n"
     ]
    },
    {
     "data": {
      "text/plain": [
       "<matplotlib.legend.Legend at 0x7f310a9c5390>"
      ]
     },
     "execution_count": 33,
     "metadata": {},
     "output_type": "execute_result"
    },
    {
     "data": {
      "image/png": "[encoded data removed]",
      "text/plain": [
       "<Figure size 360x360 with 1 Axes>"
      ]
     },
     "metadata": {},
     "output_type": "display_data"
    }
   ],
   "source": [
    "gender_2 = citibike_data[citibike_data['gender'] == 2]\n",
    "print(gender_2.groupby(['usertype']).size())\n",
    "\n",
    "fig, ax = plt.subplots()\n",
    "bin_percent = pd.DataFrame(gender_2['usertype'].value_counts(normalize=True) * 100)\n",
    "bin_percent.plot.pie(y='usertype', labels=['',''], figsize=(5, 5), autopct='%1.1f%%', ax=ax)\n",
    "ax.legend(['Subscriber', 'Customer'])"
   ]
  },
  {
   "cell_type": "code",
   "execution_count": 34,
   "metadata": {
    "ExecuteTime": {
     "end_time": "2020-05-07T15:59:26.334223Z",
     "start_time": "2020-05-07T15:59:22.795020Z"
    },
    "scrolled": true
   },
   "outputs": [
    {
     "name": "stdout",
     "output_type": "stream",
     "text": [
      "birth year\n",
      "1885       282\n",
      "1886       315\n",
      "1887       811\n",
      "1888       745\n",
      "1889        55\n",
      "         ...  \n",
      "1998    107106\n",
      "1999     82120\n",
      "2000     49718\n",
      "2001     23482\n",
      "2002      6923\n",
      "Length: 109, dtype: int64\n"
     ]
    },
    {
     "data": {
      "text/plain": [
       "<matplotlib.axes._subplots.AxesSubplot at 0x7f32c4c556d0>"
      ]
     },
     "execution_count": 34,
     "metadata": {},
     "output_type": "execute_result"
    },
    {
     "data": {
      "image/png": "[encoded data removed]",
      "text/plain": [
       "<Figure size 432x288 with 1 Axes>"
      ]
     },
     "metadata": {
      "needs_background": "light"
     },
     "output_type": "display_data"
    }
   ],
   "source": [
    "# Current oldest person in the US is 115 years old, born in 1905\n",
    "birth_group_by = citibike_data.groupby(['birth year']).size()\n",
    "print(birth_group_by)\n",
    "birth_group_by.plot()"
   ]
  },
  {
   "cell_type": "markdown",
   "metadata": {},
   "source": [
    "Birth year seems to be default at 1969"
   ]
  },
  {
   "cell_type": "code",
   "execution_count": 35,
   "metadata": {
    "ExecuteTime": {
     "end_time": "2020-05-07T15:59:27.223654Z",
     "start_time": "2020-05-07T15:59:26.336013Z"
    }
   },
   "outputs": [
    {
     "name": "stdout",
     "output_type": "stream",
     "text": [
      "usertype\n",
      "Customer      1177902\n",
      "Subscriber     485814\n",
      "dtype: int64\n"
     ]
    },
    {
     "data": {
      "text/plain": [
       "<matplotlib.legend.Legend at 0x7f32c513d590>"
      ]
     },
     "execution_count": 35,
     "metadata": {},
     "output_type": "execute_result"
    },
    {
     "data": {
      "image/png": "[encoded data removed]",
      "text/plain": [
       "<Figure size 360x360 with 1 Axes>"
      ]
     },
     "metadata": {},
     "output_type": "display_data"
    }
   ],
   "source": [
    "birthdate_1969 = citibike_data[citibike_data['birth year'] == 1969]\n",
    "print(birthdate_1969.groupby(['usertype']).size())\n",
    "\n",
    "fig, ax = plt.subplots()\n",
    "bin_percent = pd.DataFrame(birthdate_1969['usertype'].value_counts(normalize=True) * 100)\n",
    "bin_percent.plot.pie(y='usertype', labels=['',''], figsize=(5, 5), autopct='%1.1f%%', ax=ax)\n",
    "ax.legend(['Subscriber', 'Customer'])"
   ]
  },
  {
   "cell_type": "code",
   "execution_count": 36,
   "metadata": {
    "ExecuteTime": {
     "end_time": "2020-05-07T15:59:32.079807Z",
     "start_time": "2020-05-07T15:59:27.226074Z"
    }
   },
   "outputs": [
    {
     "name": "stdout",
     "output_type": "stream",
     "text": [
      "usertype\n",
      "Customer        62819\n",
      "Subscriber    3061284\n",
      "dtype: int64\n"
     ]
    },
    {
     "data": {
      "text/plain": [
       "<matplotlib.legend.Legend at 0x7f32630b5790>"
      ]
     },
     "execution_count": 36,
     "metadata": {},
     "output_type": "execute_result"
    },
    {
     "data": {
      "image/png": "[encoded data removed]",
      "text/plain": [
       "<Figure size 360x360 with 1 Axes>"
      ]
     },
     "metadata": {},
     "output_type": "display_data"
    }
   ],
   "source": [
    "birthdate_smaller_1969 = citibike_data[citibike_data['birth year'] < 1969]\n",
    "print(birthdate_smaller_1969.groupby(['usertype']).size())\n",
    "\n",
    "fig, ax = plt.subplots()\n",
    "bin_percent = pd.DataFrame(birthdate_smaller_1969['usertype'].value_counts(normalize=True) * 100)\n",
    "bin_percent.plot.pie(y='usertype', labels=['',''], figsize=(5, 5), autopct='%1.1f%%', ax=ax)\n",
    "ax.legend(['Subscriber', 'Customer'])"
   ]
  },
  {
   "cell_type": "code",
   "execution_count": 37,
   "metadata": {
    "ExecuteTime": {
     "end_time": "2020-05-07T16:01:17.509542Z",
     "start_time": "2020-05-07T15:59:32.081860Z"
    }
   },
   "outputs": [
    {
     "data": {
      "text/html": [
       "<div>\n",
       "<style scoped>\n",
       "    .dataframe tbody tr th:only-of-type {\n",
       "        vertical-align: middle;\n",
       "    }\n",
       "\n",
       "    .dataframe tbody tr th {\n",
       "        vertical-align: top;\n",
       "    }\n",
       "\n",
       "    .dataframe thead th {\n",
       "        text-align: right;\n",
       "    }\n",
       "</style>\n",
       "<table border=\"1\" class=\"dataframe\">\n",
       "  <thead>\n",
       "    <tr style=\"text-align: right;\">\n",
       "      <th></th>\n",
       "      <th>birth year</th>\n",
       "      <th>gender</th>\n",
       "      <th>usertype</th>\n",
       "      <th>bikeid</th>\n",
       "    </tr>\n",
       "  </thead>\n",
       "  <tbody>\n",
       "    <tr>\n",
       "      <th>birth year</th>\n",
       "      <td>1.000000</td>\n",
       "      <td>-0.065591</td>\n",
       "      <td>-0.262215</td>\n",
       "      <td>0.005796</td>\n",
       "    </tr>\n",
       "    <tr>\n",
       "      <th>gender</th>\n",
       "      <td>-0.065591</td>\n",
       "      <td>1.000000</td>\n",
       "      <td>0.145196</td>\n",
       "      <td>0.001985</td>\n",
       "    </tr>\n",
       "    <tr>\n",
       "      <th>usertype</th>\n",
       "      <td>-0.262215</td>\n",
       "      <td>0.145196</td>\n",
       "      <td>1.000000</td>\n",
       "      <td>0.002053</td>\n",
       "    </tr>\n",
       "    <tr>\n",
       "      <th>bikeid</th>\n",
       "      <td>0.005796</td>\n",
       "      <td>0.001985</td>\n",
       "      <td>0.002053</td>\n",
       "      <td>1.000000</td>\n",
       "    </tr>\n",
       "  </tbody>\n",
       "</table>\n",
       "</div>"
      ],
      "text/plain": [
       "            birth year    gender  usertype    bikeid\n",
       "birth year    1.000000 -0.065591 -0.262215  0.005796\n",
       "gender       -0.065591  1.000000  0.145196  0.001985\n",
       "usertype     -0.262215  0.145196  1.000000  0.002053\n",
       "bikeid        0.005796  0.001985  0.002053  1.000000"
      ]
     },
     "execution_count": 37,
     "metadata": {},
     "output_type": "execute_result"
    }
   ],
   "source": [
    "columns = [\n",
    "    'birth year', \n",
    "    'gender', \n",
    "    'usertype', \n",
    "    'bikeid', \n",
    "]\n",
    "citibike_data[columns].apply(lambda x : pd.factorize(x)[0]).corr(method='pearson', min_periods=1)"
   ]
  },
  {
   "cell_type": "code",
   "execution_count": 38,
   "metadata": {
    "ExecuteTime": {
     "end_time": "2020-05-07T16:01:26.391916Z",
     "start_time": "2020-05-07T16:01:17.558881Z"
    }
   },
   "outputs": [
    {
     "data": {
      "text/html": [
       "<div>\n",
       "<style scoped>\n",
       "    .dataframe tbody tr th:only-of-type {\n",
       "        vertical-align: middle;\n",
       "    }\n",
       "\n",
       "    .dataframe tbody tr th {\n",
       "        vertical-align: top;\n",
       "    }\n",
       "\n",
       "    .dataframe thead th {\n",
       "        text-align: right;\n",
       "    }\n",
       "</style>\n",
       "<table border=\"1\" class=\"dataframe\">\n",
       "  <thead>\n",
       "    <tr style=\"text-align: right;\">\n",
       "      <th></th>\n",
       "      <th>usertype</th>\n",
       "      <th>start_weekday</th>\n",
       "      <th>stop_weekday</th>\n",
       "      <th>start_hour</th>\n",
       "      <th>stop_hour</th>\n",
       "    </tr>\n",
       "  </thead>\n",
       "  <tbody>\n",
       "    <tr>\n",
       "      <th>usertype</th>\n",
       "      <td>1.000000</td>\n",
       "      <td>0.131282</td>\n",
       "      <td>0.130942</td>\n",
       "      <td>-0.010135</td>\n",
       "      <td>-0.023259</td>\n",
       "    </tr>\n",
       "    <tr>\n",
       "      <th>start_weekday</th>\n",
       "      <td>0.131282</td>\n",
       "      <td>1.000000</td>\n",
       "      <td>0.997710</td>\n",
       "      <td>0.006139</td>\n",
       "      <td>-0.002927</td>\n",
       "    </tr>\n",
       "    <tr>\n",
       "      <th>stop_weekday</th>\n",
       "      <td>0.130942</td>\n",
       "      <td>0.997710</td>\n",
       "      <td>1.000000</td>\n",
       "      <td>0.006956</td>\n",
       "      <td>-0.002373</td>\n",
       "    </tr>\n",
       "    <tr>\n",
       "      <th>start_hour</th>\n",
       "      <td>-0.010135</td>\n",
       "      <td>0.006139</td>\n",
       "      <td>0.006956</td>\n",
       "      <td>1.000000</td>\n",
       "      <td>0.528423</td>\n",
       "    </tr>\n",
       "    <tr>\n",
       "      <th>stop_hour</th>\n",
       "      <td>-0.023259</td>\n",
       "      <td>-0.002927</td>\n",
       "      <td>-0.002373</td>\n",
       "      <td>0.528423</td>\n",
       "      <td>1.000000</td>\n",
       "    </tr>\n",
       "  </tbody>\n",
       "</table>\n",
       "</div>"
      ],
      "text/plain": [
       "               usertype  start_weekday  stop_weekday  start_hour  stop_hour\n",
       "usertype       1.000000       0.131282      0.130942   -0.010135  -0.023259\n",
       "start_weekday  0.131282       1.000000      0.997710    0.006139  -0.002927\n",
       "stop_weekday   0.130942       0.997710      1.000000    0.006956  -0.002373\n",
       "start_hour    -0.010135       0.006139      0.006956    1.000000   0.528423\n",
       "stop_hour     -0.023259      -0.002927     -0.002373    0.528423   1.000000"
      ]
     },
     "execution_count": 38,
     "metadata": {},
     "output_type": "execute_result"
    }
   ],
   "source": [
    "columns = [\n",
    "    'usertype', \n",
    "    'start_weekday', \n",
    "    'stop_weekday', \n",
    "    'start_hour', \n",
    "    'stop_hour'\n",
    "]\n",
    "citibike_data[columns].apply(lambda x : pd.factorize(x)[0]).corr(method='pearson', min_periods=1)"
   ]
  }
 ],
 "metadata": {
  "hide_input": false,
  "kernelspec": {
   "display_name": "Python 3",
   "language": "python",
   "name": "python3"
  },
  "language_info": {
   "codemirror_mode": {
    "name": "ipython",
    "version": 3
   },
   "file_extension": ".py",
   "mimetype": "text/x-python",
   "name": "python",
   "nbconvert_exporter": "python",
   "pygments_lexer": "ipython3",
   "version": "3.7.7"
  },
  "toc": {
   "base_numbering": 1.0,
   "nav_menu": {},
   "number_sections": true,
   "sideBar": true,
   "skip_h1_title": false,
   "title_cell": "Table of Contents",
   "title_sidebar": "Contents",
   "toc_cell": false,
   "toc_position": {},
   "toc_section_display": true,
   "toc_window_display": false
  }
 },
 "nbformat": 4,
 "nbformat_minor": 4
}
